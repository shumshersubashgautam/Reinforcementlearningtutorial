{
  "nbformat": 4,
  "nbformat_minor": 0,
  "metadata": {
    "colab": {
      "name": "a3c-criticactor.ipynb",
      "provenance": [],
      "collapsed_sections": [],
      "authorship_tag": "ABX9TyM3C+x2+S0AQyG3Mjd0PzkK",
      "include_colab_link": true
    },
    "kernelspec": {
      "name": "python3",
      "display_name": "Python 3"
    },
    "accelerator": "GPU"
  },
  "cells": [
    {
      "cell_type": "markdown",
      "metadata": {
        "id": "view-in-github",
        "colab_type": "text"
      },
      "source": [
        "<a href=\"https://colab.research.google.com/github/shumshersubashgautam/Reinforcementlearningtutorial/blob/master/The%20Contextual%20Bandits.ipynb\" target=\"_parent\"><img src=\"https://colab.research.google.com/assets/colab-badge.svg\" alt=\"Open In Colab\"/></a>"
      ]
    },
    {
      "cell_type": "code",
      "metadata": {
        "id": "kiU0MZXwYJun",
        "colab_type": "code",
        "colab": {
          "base_uri": "https://localhost:8080/",
          "height": 106
        },
        "outputId": "3d5748db-9fef-48b1-91f6-a9adb25eb6d0"
      },
      "source": [
        "!git clone https://github.com/awjuliani/DeepRL-Agents.git"
      ],
      "execution_count": 1,
      "outputs": [
        {
          "output_type": "stream",
          "text": [
            "Cloning into 'DeepRL-Agents'...\n",
            "remote: Enumerating objects: 260, done.\u001b[K\n",
            "Receiving objects:   0% (1/260)   \rReceiving objects:   1% (3/260)   \rReceiving objects:   2% (6/260)   \rReceiving objects:   3% (8/260)   \rReceiving objects:   4% (11/260)   \rReceiving objects:   5% (13/260)   \rReceiving objects:   6% (16/260)   \rReceiving objects:   7% (19/260)   \rReceiving objects:   8% (21/260)   \rReceiving objects:   9% (24/260)   \rReceiving objects:  10% (26/260)   \rReceiving objects:  11% (29/260)   \rReceiving objects:  12% (32/260)   \rReceiving objects:  13% (34/260)   \rReceiving objects:  14% (37/260)   \rReceiving objects:  15% (39/260)   \rReceiving objects:  16% (42/260)   \rReceiving objects:  17% (45/260)   \rReceiving objects:  18% (47/260)   \rReceiving objects:  19% (50/260)   \rReceiving objects:  20% (52/260)   \rReceiving objects:  21% (55/260)   \rReceiving objects:  22% (58/260)   \rReceiving objects:  23% (60/260)   \rReceiving objects:  24% (63/260)   \rReceiving objects:  25% (65/260)   \rReceiving objects:  26% (68/260)   \rReceiving objects:  27% (71/260)   \rReceiving objects:  28% (73/260)   \rReceiving objects:  29% (76/260)   \rReceiving objects:  30% (78/260)   \rReceiving objects:  31% (81/260)   \rReceiving objects:  32% (84/260)   \rReceiving objects:  33% (86/260)   \rReceiving objects:  34% (89/260)   \rReceiving objects:  35% (91/260)   \rReceiving objects:  36% (94/260)   \rReceiving objects:  37% (97/260)   \rReceiving objects:  38% (99/260)   \rReceiving objects:  39% (102/260)   \rReceiving objects:  40% (104/260)   \rReceiving objects:  41% (107/260)   \rReceiving objects:  42% (110/260)   \rReceiving objects:  43% (112/260)   \rReceiving objects:  44% (115/260)   \rReceiving objects:  45% (117/260)   \rReceiving objects:  46% (120/260)   \rReceiving objects:  47% (123/260)   \rReceiving objects:  48% (125/260)   \rReceiving objects:  49% (128/260)   \rReceiving objects:  50% (130/260), 140.01 KiB | 250.00 KiB/s   \rReceiving objects:  51% (133/260), 140.01 KiB | 250.00 KiB/s   \rReceiving objects:  52% (136/260), 140.01 KiB | 250.00 KiB/s   \rReceiving objects:  53% (138/260), 140.01 KiB | 250.00 KiB/s   \rReceiving objects:  54% (141/260), 140.01 KiB | 250.00 KiB/s   \rReceiving objects:  55% (143/260), 140.01 KiB | 250.00 KiB/s   \rReceiving objects:  56% (146/260), 140.01 KiB | 250.00 KiB/s   \rReceiving objects:  57% (149/260), 140.01 KiB | 250.00 KiB/s   \rReceiving objects:  58% (151/260), 140.01 KiB | 250.00 KiB/s   \rReceiving objects:  59% (154/260), 140.01 KiB | 250.00 KiB/s   \rReceiving objects:  60% (156/260), 140.01 KiB | 250.00 KiB/s   \rReceiving objects:  61% (159/260), 140.01 KiB | 250.00 KiB/s   \rReceiving objects:  62% (162/260), 140.01 KiB | 250.00 KiB/s   \rReceiving objects:  63% (164/260), 140.01 KiB | 250.00 KiB/s   \rReceiving objects:  64% (167/260), 140.01 KiB | 250.00 KiB/s   \rReceiving objects:  65% (169/260), 140.01 KiB | 250.00 KiB/s   \rReceiving objects:  66% (172/260), 140.01 KiB | 250.00 KiB/s   \rReceiving objects:  67% (175/260), 140.01 KiB | 250.00 KiB/s   \rReceiving objects:  68% (177/260), 140.01 KiB | 250.00 KiB/s   \rReceiving objects:  69% (180/260), 140.01 KiB | 250.00 KiB/s   \rReceiving objects:  70% (182/260), 140.01 KiB | 250.00 KiB/s   \rReceiving objects:  71% (185/260), 140.01 KiB | 250.00 KiB/s   \rReceiving objects:  72% (188/260), 140.01 KiB | 250.00 KiB/s   \rReceiving objects:  73% (190/260), 140.01 KiB | 250.00 KiB/s   \rReceiving objects:  74% (193/260), 140.01 KiB | 250.00 KiB/s   \rReceiving objects:  75% (195/260), 140.01 KiB | 250.00 KiB/s   \rReceiving objects:  76% (198/260), 140.01 KiB | 250.00 KiB/s   \rReceiving objects:  77% (201/260), 140.01 KiB | 250.00 KiB/s   \rReceiving objects:  78% (203/260), 140.01 KiB | 250.00 KiB/s   \rremote: Total 260 (delta 0), reused 0 (delta 0), pack-reused 260\u001b[K\n",
            "Receiving objects:  79% (206/260), 140.01 KiB | 250.00 KiB/s   \rReceiving objects:  80% (208/260), 140.01 KiB | 250.00 KiB/s   \rReceiving objects:  81% (211/260), 140.01 KiB | 250.00 KiB/s   \rReceiving objects:  82% (214/260), 140.01 KiB | 250.00 KiB/s   \rReceiving objects:  83% (216/260), 140.01 KiB | 250.00 KiB/s   \rReceiving objects:  84% (219/260), 140.01 KiB | 250.00 KiB/s   \rReceiving objects:  85% (221/260), 140.01 KiB | 250.00 KiB/s   \rReceiving objects:  86% (224/260), 140.01 KiB | 250.00 KiB/s   \rReceiving objects:  87% (227/260), 140.01 KiB | 250.00 KiB/s   \rReceiving objects:  88% (229/260), 140.01 KiB | 250.00 KiB/s   \rReceiving objects:  89% (232/260), 140.01 KiB | 250.00 KiB/s   \rReceiving objects:  90% (234/260), 140.01 KiB | 250.00 KiB/s   \rReceiving objects:  91% (237/260), 140.01 KiB | 250.00 KiB/s   \rReceiving objects:  92% (240/260), 140.01 KiB | 250.00 KiB/s   \rReceiving objects:  93% (242/260), 140.01 KiB | 250.00 KiB/s   \rReceiving objects:  94% (245/260), 140.01 KiB | 250.00 KiB/s   \rReceiving objects:  95% (247/260), 140.01 KiB | 250.00 KiB/s   \rReceiving objects:  96% (250/260), 140.01 KiB | 250.00 KiB/s   \rReceiving objects:  97% (253/260), 140.01 KiB | 250.00 KiB/s   \rReceiving objects:  98% (255/260), 140.01 KiB | 250.00 KiB/s   \rReceiving objects:  99% (258/260), 140.01 KiB | 250.00 KiB/s   \rReceiving objects: 100% (260/260), 140.01 KiB | 250.00 KiB/s   \rReceiving objects: 100% (260/260), 360.81 KiB | 491.00 KiB/s, done.\n",
            "Resolving deltas:   0% (0/138)   \rResolving deltas:   1% (2/138)   \rResolving deltas:   2% (3/138)   \rResolving deltas:   5% (7/138)   \rResolving deltas:  15% (22/138)   \rResolving deltas:  18% (26/138)   \rResolving deltas:  21% (29/138)   \rResolving deltas:  28% (39/138)   \rResolving deltas:  37% (52/138)   \rResolving deltas:  41% (57/138)   \rResolving deltas:  43% (60/138)   \rResolving deltas:  56% (78/138)   \rResolving deltas:  59% (82/138)   \rResolving deltas:  60% (84/138)   \rResolving deltas:  77% (107/138)   \rResolving deltas:  81% (113/138)   \rResolving deltas:  96% (133/138)   \rResolving deltas:  99% (137/138)   \rResolving deltas: 100% (138/138)   \rResolving deltas: 100% (138/138), done.\n"
          ],
          "name": "stdout"
        }
      ]
    },
    {
      "cell_type": "code",
      "metadata": {
        "id": "0s0ZXPToZZk1",
        "colab_type": "code",
        "colab": {
          "base_uri": "https://localhost:8080/",
          "height": 35
        },
        "outputId": "f956f86c-6e06-4137-eb90-ce7132ad2a61"
      },
      "source": [
        "cd /content/DeepRL-Agents"
      ],
      "execution_count": 28,
      "outputs": [
        {
          "output_type": "stream",
          "text": [
            "/content/DeepRL-Agents\n"
          ],
          "name": "stdout"
        }
      ]
    },
    {
      "cell_type": "code",
      "metadata": {
        "id": "PbF77rKRZt_V",
        "colab_type": "code",
        "colab": {}
      },
      "source": [
        "import threading\n",
        "import multiprocessing\n",
        "import numpy as np\n",
        "import matplotlib.pyplot as plt\n",
        "import tensorflow as tf\n",
        "import tensorflow.contrib.slim as slim\n",
        "import scipy.signal\n",
        "from PIL import Image\n",
        "\n",
        "%matplotlib inline\n",
        "from helper import *\n",
        "from vizdoom import *\n",
        "\n",
        "from random import choice\n",
        "from time import sleep\n",
        "from time import time"
      ],
      "execution_count": 0,
      "outputs": []
    },
    {
      "cell_type": "code",
      "metadata": {
        "id": "PgMrz35TZ33H",
        "colab_type": "code",
        "colab": {}
      },
      "source": [
        ""
      ],
      "execution_count": 0,
      "outputs": []
    },
    {
      "cell_type": "code",
      "metadata": {
        "id": "5utOB7F9aJyw",
        "colab_type": "code",
        "colab": {
          "base_uri": "https://localhost:8080/",
          "height": 195
        },
        "outputId": "90b08049-417d-4abe-961e-b1be3b1a8d82"
      },
      "source": [
        "!pip install vizdoom"
      ],
      "execution_count": 13,
      "outputs": [
        {
          "output_type": "stream",
          "text": [
            "Collecting vizdoom\n",
            "  Using cached https://files.pythonhosted.org/packages/2d/6c/23565c09387173423883e7881fce53541ff89b5209ca0904c67e577dd6ac/vizdoom-1.1.7.tar.gz\n",
            "Requirement already satisfied: numpy in /usr/local/lib/python3.6/dist-packages (from vizdoom) (1.18.2)\n",
            "Building wheels for collected packages: vizdoom\n",
            "  Building wheel for vizdoom (setup.py) ... \u001b[?25l\u001b[?25hdone\n",
            "  Created wheel for vizdoom: filename=vizdoom-1.1.7-cp36-none-any.whl size=14285794 sha256=582febd54eaa186642a2dde10a460dea4ff4094ac7689039890d243ea49a9edb\n",
            "  Stored in directory: /root/.cache/pip/wheels/67/98/04/d96d2c8edb8d1c008d926716257b407e56fb3ee0c81e51d25e\n",
            "Successfully built vizdoom\n",
            "Installing collected packages: vizdoom\n",
            "Successfully installed vizdoom-1.1.7\n"
          ],
          "name": "stdout"
        }
      ]
    },
    {
      "cell_type": "code",
      "metadata": {
        "id": "EUW7S8DybJyq",
        "colab_type": "code",
        "colab": {
          "base_uri": "https://localhost:8080/",
          "height": 1000
        },
        "outputId": "40bedb93-734a-4a3f-b8b2-03633aedb39a"
      },
      "source": [
        "%%bash\n",
        "# Install deps from \n",
        "# https://github.com/mwydmuch/ViZDoom/blob/master/doc/Building.md#-linux\n",
        "\n",
        "apt-get update\n",
        "\n",
        "apt-get install build-essential zlib1g-dev libsdl2-dev libjpeg-dev \\\n",
        "nasm tar libbz2-dev libgtk2.0-dev cmake git libfluidsynth-dev libgme-dev \\\n",
        "libopenal-dev timidity libwildmidi-dev unzip\n",
        "\n",
        "# Boost libraries\n",
        "apt-get install libboost-all-dev\n",
        "\n",
        "# Lua binding dependencies\n",
        "apt-get install liblua5.1-dev"
      ],
      "execution_count": 12,
      "outputs": [
        {
          "output_type": "stream",
          "text": [
            "Get:1 https://cloud.r-project.org/bin/linux/ubuntu bionic-cran35/ InRelease [3,626 B]\n",
            "Ign:2 https://developer.download.nvidia.com/compute/cuda/repos/ubuntu1804/x86_64  InRelease\n",
            "Ign:3 https://developer.download.nvidia.com/compute/machine-learning/repos/ubuntu1804/x86_64  InRelease\n",
            "Hit:4 https://developer.download.nvidia.com/compute/cuda/repos/ubuntu1804/x86_64  Release\n",
            "Get:5 https://developer.download.nvidia.com/compute/machine-learning/repos/ubuntu1804/x86_64  Release [564 B]\n",
            "Get:6 https://developer.download.nvidia.com/compute/machine-learning/repos/ubuntu1804/x86_64  Release.gpg [833 B]\n",
            "Hit:7 http://ppa.launchpad.net/graphics-drivers/ppa/ubuntu bionic InRelease\n",
            "Get:9 http://security.ubuntu.com/ubuntu bionic-security InRelease [88.7 kB]\n",
            "Get:10 https://developer.download.nvidia.com/compute/machine-learning/repos/ubuntu1804/x86_64  Packages [31.7 kB]\n",
            "Get:11 http://ppa.launchpad.net/marutter/c2d4u3.5/ubuntu bionic InRelease [15.4 kB]\n",
            "Hit:12 http://archive.ubuntu.com/ubuntu bionic InRelease\n",
            "Get:13 http://archive.ubuntu.com/ubuntu bionic-updates InRelease [88.7 kB]\n",
            "Get:14 http://security.ubuntu.com/ubuntu bionic-security/universe amd64 Packages [832 kB]\n",
            "Get:15 http://ppa.launchpad.net/marutter/c2d4u3.5/ubuntu bionic/main Sources [1,789 kB]\n",
            "Get:16 http://security.ubuntu.com/ubuntu bionic-security/main amd64 Packages [861 kB]\n",
            "Get:17 http://security.ubuntu.com/ubuntu bionic-security/restricted amd64 Packages [35.2 kB]\n",
            "Get:18 http://archive.ubuntu.com/ubuntu bionic-backports InRelease [74.6 kB]\n",
            "Get:19 http://archive.ubuntu.com/ubuntu bionic-updates/main amd64 Packages [1,155 kB]\n",
            "Get:20 http://ppa.launchpad.net/marutter/c2d4u3.5/ubuntu bionic/main amd64 Packages [863 kB]\n",
            "Get:21 http://archive.ubuntu.com/ubuntu bionic-updates/universe amd64 Packages [1,362 kB]\n",
            "Get:22 http://archive.ubuntu.com/ubuntu bionic-updates/restricted amd64 Packages [48.7 kB]\n",
            "Get:23 http://archive.ubuntu.com/ubuntu bionic-backports/universe amd64 Packages [4,247 B]\n",
            "Fetched 7,254 kB in 6s (1,265 kB/s)\n",
            "Reading package lists...\n",
            "Reading package lists...\n",
            "Building dependency tree...\n",
            "Reading state information...\n",
            "build-essential is already the newest version (12.4ubuntu1).\n",
            "libjpeg-dev is already the newest version (8c-2ubuntu8).\n",
            "libjpeg-dev set to manually installed.\n",
            "unzip is already the newest version (6.0-21ubuntu1).\n",
            "zlib1g-dev is already the newest version (1:1.2.11.dfsg-0ubuntu2).\n",
            "zlib1g-dev set to manually installed.\n",
            "cmake is already the newest version (3.10.2-1ubuntu2.18.04.1).\n",
            "git is already the newest version (1:2.17.1-1ubuntu0.5).\n",
            "libbz2-dev is already the newest version (1.0.6-8.1ubuntu0.2).\n",
            "libbz2-dev set to manually installed.\n",
            "tar is already the newest version (1.29b-2ubuntu0.1).\n",
            "The following additional packages will be installed:\n",
            "  autoconf automake autopoint debhelper dh-autoreconf dh-strip-nondeterminism\n",
            "  freepats gettext gettext-base gir1.2-atk-1.0 gir1.2-freedesktop\n",
            "  gir1.2-gdkpixbuf-2.0 gir1.2-gtk-2.0 gir1.2-ibus-1.0 gir1.2-pango-1.0\n",
            "  intltool-debian libarchive-cpio-perl libarchive-zip-perl libatk1.0-dev\n",
            "  libaudio2 libcairo-script-interpreter2 libcairo2-dev libcapnp-0.6.1\n",
            "  libdbus-1-dev libfile-stripnondeterminism-perl libfluidsynth1\n",
            "  libgdk-pixbuf2.0-dev libibus-1.0-5 libibus-1.0-dev libmail-sendmail-perl\n",
            "  libmirclient-dev libmirclient9 libmircommon-dev libmircommon7\n",
            "  libmircookie-dev libmircookie2 libmircore-dev libmircore1 libmirprotobuf3\n",
            "  libpango1.0-dev libpangoxft-1.0-0 libpixman-1-dev libprotobuf-dev\n",
            "  libprotobuf-lite10 libpulse-dev libpulse-mainloop-glib0 libsigsegv2\n",
            "  libsndio-dev libsys-hostname-long-perl libtimedate-perl libudev-dev\n",
            "  libwildmidi-config libwildmidi2 libxcb-shm0-dev libxcomposite-dev\n",
            "  libxcursor-dev libxinerama-dev libxkbcommon-dev libxml2-utils libxrandr-dev\n",
            "  libxv-dev m4 po-debconf timidity-daemon x11proto-composite-dev\n",
            "  x11proto-randr-dev x11proto-xinerama-dev\n",
            "Suggested packages:\n",
            "  autoconf-archive gnu-standards autoconf-doc dh-make dwz gettext-doc\n",
            "  libasprintf-dev libgettextpo-dev nas libcairo2-doc fluidr3mono-gm-soundfont\n",
            "  | timgm6mb-soundfont | fluid-soundfont-gm libgtk2.0-doc imagemagick\n",
            "  libpango1.0-doc m4-doc libmail-box-perl fluid-soundfont-gm\n",
            "  fluid-soundfont-gs pmidi\n",
            "The following NEW packages will be installed:\n",
            "  autoconf automake autopoint debhelper dh-autoreconf dh-strip-nondeterminism\n",
            "  freepats gettext gettext-base gir1.2-atk-1.0 gir1.2-freedesktop\n",
            "  gir1.2-gdkpixbuf-2.0 gir1.2-gtk-2.0 gir1.2-ibus-1.0 gir1.2-pango-1.0\n",
            "  intltool-debian libarchive-cpio-perl libarchive-zip-perl libatk1.0-dev\n",
            "  libaudio2 libcairo-script-interpreter2 libcairo2-dev libcapnp-0.6.1\n",
            "  libdbus-1-dev libfile-stripnondeterminism-perl libfluidsynth-dev\n",
            "  libfluidsynth1 libgdk-pixbuf2.0-dev libgme-dev libgtk2.0-dev libibus-1.0-5\n",
            "  libibus-1.0-dev libmail-sendmail-perl libmirclient-dev libmirclient9\n",
            "  libmircommon-dev libmircommon7 libmircookie-dev libmircookie2 libmircore-dev\n",
            "  libmircore1 libmirprotobuf3 libopenal-dev libpango1.0-dev libpangoxft-1.0-0\n",
            "  libpixman-1-dev libprotobuf-dev libprotobuf-lite10 libpulse-dev\n",
            "  libpulse-mainloop-glib0 libsdl2-dev libsigsegv2 libsndio-dev\n",
            "  libsys-hostname-long-perl libtimedate-perl libudev-dev libwildmidi-config\n",
            "  libwildmidi-dev libwildmidi2 libxcb-shm0-dev libxcomposite-dev\n",
            "  libxcursor-dev libxinerama-dev libxkbcommon-dev libxml2-utils libxrandr-dev\n",
            "  libxv-dev m4 nasm po-debconf timidity timidity-daemon x11proto-composite-dev\n",
            "  x11proto-randr-dev x11proto-xinerama-dev\n",
            "0 upgraded, 75 newly installed, 0 to remove and 37 not upgraded.\n",
            "Need to get 42.6 MB of archives.\n",
            "After this operation, 107 MB of additional disk space will be used.\n",
            "Get:1 http://archive.ubuntu.com/ubuntu bionic-updates/main amd64 gettext-base amd64 0.19.8.1-6ubuntu0.3 [113 kB]\n",
            "Get:2 http://archive.ubuntu.com/ubuntu bionic/main amd64 libsigsegv2 amd64 2.12-1 [14.7 kB]\n",
            "Get:3 http://archive.ubuntu.com/ubuntu bionic/main amd64 m4 amd64 1.4.18-1 [197 kB]\n",
            "Get:4 http://archive.ubuntu.com/ubuntu bionic/main amd64 autoconf all 2.69-11 [322 kB]\n",
            "Get:5 http://archive.ubuntu.com/ubuntu bionic/main amd64 automake all 1:1.15.1-3ubuntu2 [509 kB]\n",
            "Get:6 http://archive.ubuntu.com/ubuntu bionic-updates/main amd64 autopoint all 0.19.8.1-6ubuntu0.3 [426 kB]\n",
            "Get:7 http://archive.ubuntu.com/ubuntu bionic/main amd64 dh-autoreconf all 17 [15.8 kB]\n",
            "Get:8 http://archive.ubuntu.com/ubuntu bionic-updates/main amd64 libarchive-zip-perl all 1.60-1ubuntu0.1 [84.6 kB]\n",
            "Get:9 http://archive.ubuntu.com/ubuntu bionic/main amd64 libfile-stripnondeterminism-perl all 0.040-1.1~build1 [13.8 kB]\n",
            "Get:10 http://archive.ubuntu.com/ubuntu bionic/main amd64 libtimedate-perl all 2.3000-2 [37.5 kB]\n",
            "Get:11 http://archive.ubuntu.com/ubuntu bionic/main amd64 dh-strip-nondeterminism all 0.040-1.1~build1 [5,208 B]\n",
            "Get:12 http://archive.ubuntu.com/ubuntu bionic-updates/main amd64 gettext amd64 0.19.8.1-6ubuntu0.3 [1,293 kB]\n",
            "Get:13 http://archive.ubuntu.com/ubuntu bionic/main amd64 intltool-debian all 0.35.0+20060710.4 [24.9 kB]\n",
            "Get:14 http://archive.ubuntu.com/ubuntu bionic/main amd64 po-debconf all 1.0.20 [232 kB]\n",
            "Get:15 http://archive.ubuntu.com/ubuntu bionic-updates/main amd64 debhelper all 11.1.6ubuntu2 [902 kB]\n",
            "Get:16 http://archive.ubuntu.com/ubuntu bionic/universe amd64 freepats all 20060219-1 [29.0 MB]\n",
            "Get:17 http://archive.ubuntu.com/ubuntu bionic/main amd64 gir1.2-atk-1.0 amd64 2.28.1-1 [17.8 kB]\n",
            "Get:18 http://archive.ubuntu.com/ubuntu bionic/main amd64 gir1.2-freedesktop amd64 1.56.1-1 [9,080 B]\n",
            "Get:19 http://archive.ubuntu.com/ubuntu bionic/main amd64 gir1.2-gdkpixbuf-2.0 amd64 2.36.11-2 [7,748 B]\n",
            "Get:20 http://archive.ubuntu.com/ubuntu bionic-updates/main amd64 libpangoxft-1.0-0 amd64 1.40.14-1ubuntu0.1 [15.0 kB]\n",
            "Get:21 http://archive.ubuntu.com/ubuntu bionic-updates/main amd64 gir1.2-pango-1.0 amd64 1.40.14-1ubuntu0.1 [21.6 kB]\n",
            "Get:22 http://archive.ubuntu.com/ubuntu bionic/main amd64 gir1.2-gtk-2.0 amd64 2.24.32-1ubuntu1 [172 kB]\n",
            "Get:23 http://archive.ubuntu.com/ubuntu bionic-updates/main amd64 libibus-1.0-5 amd64 1.5.17-3ubuntu5.3 [133 kB]\n",
            "Get:24 http://archive.ubuntu.com/ubuntu bionic-updates/main amd64 gir1.2-ibus-1.0 amd64 1.5.17-3ubuntu5.3 [66.5 kB]\n",
            "Get:25 http://archive.ubuntu.com/ubuntu bionic/main amd64 libarchive-cpio-perl all 0.10-1 [9,644 B]\n",
            "Get:26 http://archive.ubuntu.com/ubuntu bionic/main amd64 libatk1.0-dev amd64 2.28.1-1 [79.9 kB]\n",
            "Get:27 http://archive.ubuntu.com/ubuntu bionic/main amd64 libaudio2 amd64 1.9.4-6 [50.3 kB]\n",
            "Get:28 http://archive.ubuntu.com/ubuntu bionic-updates/main amd64 libcairo-script-interpreter2 amd64 1.15.10-2ubuntu0.1 [53.5 kB]\n",
            "Get:29 http://archive.ubuntu.com/ubuntu bionic/main amd64 libpixman-1-dev amd64 0.34.0-2 [244 kB]\n",
            "Get:30 http://archive.ubuntu.com/ubuntu bionic-updates/main amd64 libxcb-shm0-dev amd64 1.13-2~ubuntu18.04 [6,684 B]\n",
            "Get:31 http://archive.ubuntu.com/ubuntu bionic-updates/main amd64 libcairo2-dev amd64 1.15.10-2ubuntu0.1 [626 kB]\n",
            "Get:32 http://archive.ubuntu.com/ubuntu bionic/main amd64 libcapnp-0.6.1 amd64 0.6.1-1ubuntu1 [658 kB]\n",
            "Get:33 http://archive.ubuntu.com/ubuntu bionic-updates/main amd64 libdbus-1-dev amd64 1.12.2-1ubuntu1.1 [165 kB]\n",
            "Get:34 http://archive.ubuntu.com/ubuntu bionic/universe amd64 libfluidsynth1 amd64 1.1.9-1 [137 kB]\n",
            "Get:35 http://archive.ubuntu.com/ubuntu bionic/universe amd64 libfluidsynth-dev amd64 1.1.9-1 [19.7 kB]\n",
            "Get:36 http://archive.ubuntu.com/ubuntu bionic/main amd64 libgdk-pixbuf2.0-dev amd64 2.36.11-2 [46.8 kB]\n",
            "Get:37 http://archive.ubuntu.com/ubuntu bionic/universe amd64 libgme-dev amd64 0.6.2-1 [5,796 B]\n",
            "Get:38 http://archive.ubuntu.com/ubuntu bionic-updates/main amd64 libpango1.0-dev amd64 1.40.14-1ubuntu0.1 [288 kB]\n",
            "Get:39 http://archive.ubuntu.com/ubuntu bionic/main amd64 x11proto-xinerama-dev all 2018.4-4 [2,628 B]\n",
            "Get:40 http://archive.ubuntu.com/ubuntu bionic/main amd64 libxinerama-dev amd64 2:1.1.3-1 [8,404 B]\n",
            "Get:41 http://archive.ubuntu.com/ubuntu bionic/main amd64 x11proto-randr-dev all 2018.4-4 [2,620 B]\n",
            "Get:42 http://archive.ubuntu.com/ubuntu bionic/main amd64 libxrandr-dev amd64 2:1.5.1-1 [24.0 kB]\n",
            "Get:43 http://archive.ubuntu.com/ubuntu bionic/main amd64 libxcursor-dev amd64 1:1.1.15-1 [26.5 kB]\n",
            "Get:44 http://archive.ubuntu.com/ubuntu bionic/main amd64 x11proto-composite-dev all 1:2018.4-4 [2,620 B]\n",
            "Get:45 http://archive.ubuntu.com/ubuntu bionic/main amd64 libxcomposite-dev amd64 1:0.4.4-2 [9,136 B]\n",
            "Get:46 http://archive.ubuntu.com/ubuntu bionic-updates/main amd64 libxml2-utils amd64 2.9.4+dfsg1-6.1ubuntu1.3 [35.9 kB]\n",
            "Get:47 http://archive.ubuntu.com/ubuntu bionic/main amd64 libgtk2.0-dev amd64 2.24.32-1ubuntu1 [2,652 kB]\n",
            "Get:48 http://archive.ubuntu.com/ubuntu bionic-updates/main amd64 libibus-1.0-dev amd64 1.5.17-3ubuntu5.3 [145 kB]\n",
            "Get:49 http://archive.ubuntu.com/ubuntu bionic/main amd64 libsys-hostname-long-perl all 1.5-1 [11.7 kB]\n",
            "Get:50 http://archive.ubuntu.com/ubuntu bionic/main amd64 libmail-sendmail-perl all 0.80-1 [22.6 kB]\n",
            "Get:51 http://archive.ubuntu.com/ubuntu bionic/main amd64 libmircore1 amd64 0.31.1-0ubuntu1 [26.5 kB]\n",
            "Get:52 http://archive.ubuntu.com/ubuntu bionic/main amd64 libmircommon7 amd64 0.31.1-0ubuntu1 [73.9 kB]\n",
            "Get:53 http://archive.ubuntu.com/ubuntu bionic/main amd64 libprotobuf-lite10 amd64 3.0.0-9.1ubuntu1 [97.7 kB]\n",
            "Get:54 http://archive.ubuntu.com/ubuntu bionic/main amd64 libmirprotobuf3 amd64 0.31.1-0ubuntu1 [127 kB]\n",
            "Get:55 http://archive.ubuntu.com/ubuntu bionic/main amd64 libmirclient9 amd64 0.31.1-0ubuntu1 [199 kB]\n",
            "Get:56 http://archive.ubuntu.com/ubuntu bionic/main amd64 libmircore-dev amd64 0.31.1-0ubuntu1 [21.7 kB]\n",
            "Get:57 http://archive.ubuntu.com/ubuntu bionic/main amd64 libprotobuf-dev amd64 3.0.0-9.1ubuntu1 [959 kB]\n",
            "Get:58 http://archive.ubuntu.com/ubuntu bionic-updates/main amd64 libxkbcommon-dev amd64 0.8.2-1~ubuntu18.04.1 [150 kB]\n",
            "Get:59 http://archive.ubuntu.com/ubuntu bionic/main amd64 libmircommon-dev amd64 0.31.1-0ubuntu1 [13.9 kB]\n",
            "Get:60 http://archive.ubuntu.com/ubuntu bionic/main amd64 libmircookie2 amd64 0.31.1-0ubuntu1 [19.7 kB]\n",
            "Get:61 http://archive.ubuntu.com/ubuntu bionic/main amd64 libmircookie-dev amd64 0.31.1-0ubuntu1 [4,392 B]\n",
            "Get:62 http://archive.ubuntu.com/ubuntu bionic/main amd64 libmirclient-dev amd64 0.31.1-0ubuntu1 [47.8 kB]\n",
            "Get:63 http://archive.ubuntu.com/ubuntu bionic/universe amd64 libopenal-dev amd64 1:1.18.2-2 [20.9 kB]\n",
            "Get:64 http://archive.ubuntu.com/ubuntu bionic-updates/main amd64 libpulse-mainloop-glib0 amd64 1:11.1-1ubuntu7.4 [22.1 kB]\n",
            "Get:65 http://archive.ubuntu.com/ubuntu bionic-updates/main amd64 libpulse-dev amd64 1:11.1-1ubuntu7.4 [81.5 kB]\n",
            "Get:66 http://archive.ubuntu.com/ubuntu bionic/universe amd64 libsndio-dev amd64 1.1.0-3 [13.3 kB]\n",
            "Get:67 http://archive.ubuntu.com/ubuntu bionic-updates/main amd64 libudev-dev amd64 237-3ubuntu10.39 [19.1 kB]\n",
            "Get:68 http://archive.ubuntu.com/ubuntu bionic/main amd64 libxv-dev amd64 2:1.0.11-1 [32.5 kB]\n",
            "Get:69 http://archive.ubuntu.com/ubuntu bionic-updates/universe amd64 libsdl2-dev amd64 2.0.8+dfsg1-1ubuntu1.18.04.4 [683 kB]\n",
            "Get:70 http://archive.ubuntu.com/ubuntu bionic/universe amd64 libwildmidi-config all 0.4.2-1 [7,212 B]\n",
            "Get:71 http://archive.ubuntu.com/ubuntu bionic/universe amd64 libwildmidi2 amd64 0.4.2-1 [55.8 kB]\n",
            "Get:72 http://archive.ubuntu.com/ubuntu bionic/universe amd64 libwildmidi-dev amd64 0.4.2-1 [86.4 kB]\n",
            "Get:73 http://archive.ubuntu.com/ubuntu bionic/universe amd64 nasm amd64 2.13.02-0.1 [359 kB]\n",
            "Get:74 http://archive.ubuntu.com/ubuntu bionic/universe amd64 timidity amd64 2.13.2-41 [585 kB]\n",
            "Get:75 http://archive.ubuntu.com/ubuntu bionic/universe amd64 timidity-daemon all 2.13.2-41 [5,984 B]\n",
            "Fetched 42.6 MB in 12s (3,507 kB/s)\n",
            "Selecting previously unselected package gettext-base.\r\n",
            "(Reading database ... \r(Reading database ... 5%\r(Reading database ... 10%\r(Reading database ... 15%\r(Reading database ... 20%\r(Reading database ... 25%\r(Reading database ... 30%\r(Reading database ... 35%\r(Reading database ... 40%\r(Reading database ... 45%\r(Reading database ... 50%\r(Reading database ... 55%\r(Reading database ... 60%\r(Reading database ... 65%\r(Reading database ... 70%\r(Reading database ... 75%\r(Reading database ... 80%\r(Reading database ... 85%\r(Reading database ... 90%\r(Reading database ... 95%\r(Reading database ... 100%\r(Reading database ... 144641 files and directories currently installed.)\r\n",
            "Preparing to unpack .../00-gettext-base_0.19.8.1-6ubuntu0.3_amd64.deb ...\r\n",
            "Unpacking gettext-base (0.19.8.1-6ubuntu0.3) ...\r\n",
            "Selecting previously unselected package libsigsegv2:amd64.\r\n",
            "Preparing to unpack .../01-libsigsegv2_2.12-1_amd64.deb ...\r\n",
            "Unpacking libsigsegv2:amd64 (2.12-1) ...\r\n",
            "Selecting previously unselected package m4.\r\n",
            "Preparing to unpack .../02-m4_1.4.18-1_amd64.deb ...\r\n",
            "Unpacking m4 (1.4.18-1) ...\r\n",
            "Selecting previously unselected package autoconf.\r\n",
            "Preparing to unpack .../03-autoconf_2.69-11_all.deb ...\r\n",
            "Unpacking autoconf (2.69-11) ...\r\n",
            "Selecting previously unselected package automake.\r\n",
            "Preparing to unpack .../04-automake_1%3a1.15.1-3ubuntu2_all.deb ...\r\n",
            "Unpacking automake (1:1.15.1-3ubuntu2) ...\r\n",
            "Selecting previously unselected package autopoint.\r\n",
            "Preparing to unpack .../05-autopoint_0.19.8.1-6ubuntu0.3_all.deb ...\r\n",
            "Unpacking autopoint (0.19.8.1-6ubuntu0.3) ...\r\n",
            "Selecting previously unselected package dh-autoreconf.\r\n",
            "Preparing to unpack .../06-dh-autoreconf_17_all.deb ...\r\n",
            "Unpacking dh-autoreconf (17) ...\r\n",
            "Selecting previously unselected package libarchive-zip-perl.\r\n",
            "Preparing to unpack .../07-libarchive-zip-perl_1.60-1ubuntu0.1_all.deb ...\r\n",
            "Unpacking libarchive-zip-perl (1.60-1ubuntu0.1) ...\r\n",
            "Selecting previously unselected package libfile-stripnondeterminism-perl.\r\n",
            "Preparing to unpack .../08-libfile-stripnondeterminism-perl_0.040-1.1~build1_all.deb ...\r\n",
            "Unpacking libfile-stripnondeterminism-perl (0.040-1.1~build1) ...\r\n",
            "Selecting previously unselected package libtimedate-perl.\r\n",
            "Preparing to unpack .../09-libtimedate-perl_2.3000-2_all.deb ...\r\n",
            "Unpacking libtimedate-perl (2.3000-2) ...\r\n",
            "Selecting previously unselected package dh-strip-nondeterminism.\r\n",
            "Preparing to unpack .../10-dh-strip-nondeterminism_0.040-1.1~build1_all.deb ...\r\n",
            "Unpacking dh-strip-nondeterminism (0.040-1.1~build1) ...\r\n",
            "Selecting previously unselected package gettext.\r\n",
            "Preparing to unpack .../11-gettext_0.19.8.1-6ubuntu0.3_amd64.deb ...\r\n",
            "Unpacking gettext (0.19.8.1-6ubuntu0.3) ...\r\n",
            "Selecting previously unselected package intltool-debian.\r\n",
            "Preparing to unpack .../12-intltool-debian_0.35.0+20060710.4_all.deb ...\r\n",
            "Unpacking intltool-debian (0.35.0+20060710.4) ...\r\n",
            "Selecting previously unselected package po-debconf.\r\n",
            "Preparing to unpack .../13-po-debconf_1.0.20_all.deb ...\r\n",
            "Unpacking po-debconf (1.0.20) ...\r\n",
            "Selecting previously unselected package debhelper.\r\n",
            "Preparing to unpack .../14-debhelper_11.1.6ubuntu2_all.deb ...\r\n",
            "Unpacking debhelper (11.1.6ubuntu2) ...\r\n",
            "Selecting previously unselected package freepats.\r\n",
            "Preparing to unpack .../15-freepats_20060219-1_all.deb ...\r\n",
            "Unpacking freepats (20060219-1) ...\r\n",
            "Selecting previously unselected package gir1.2-atk-1.0:amd64.\r\n",
            "Preparing to unpack .../16-gir1.2-atk-1.0_2.28.1-1_amd64.deb ...\r\n",
            "Unpacking gir1.2-atk-1.0:amd64 (2.28.1-1) ...\r\n",
            "Selecting previously unselected package gir1.2-freedesktop:amd64.\r\n",
            "Preparing to unpack .../17-gir1.2-freedesktop_1.56.1-1_amd64.deb ...\r\n",
            "Unpacking gir1.2-freedesktop:amd64 (1.56.1-1) ...\r\n",
            "Selecting previously unselected package gir1.2-gdkpixbuf-2.0:amd64.\r\n",
            "Preparing to unpack .../18-gir1.2-gdkpixbuf-2.0_2.36.11-2_amd64.deb ...\r\n",
            "Unpacking gir1.2-gdkpixbuf-2.0:amd64 (2.36.11-2) ...\r\n",
            "Selecting previously unselected package libpangoxft-1.0-0:amd64.\r\n",
            "Preparing to unpack .../19-libpangoxft-1.0-0_1.40.14-1ubuntu0.1_amd64.deb ...\r\n",
            "Unpacking libpangoxft-1.0-0:amd64 (1.40.14-1ubuntu0.1) ...\r\n",
            "Selecting previously unselected package gir1.2-pango-1.0:amd64.\r\n",
            "Preparing to unpack .../20-gir1.2-pango-1.0_1.40.14-1ubuntu0.1_amd64.deb ...\r\n",
            "Unpacking gir1.2-pango-1.0:amd64 (1.40.14-1ubuntu0.1) ...\r\n",
            "Selecting previously unselected package gir1.2-gtk-2.0.\r\n",
            "Preparing to unpack .../21-gir1.2-gtk-2.0_2.24.32-1ubuntu1_amd64.deb ...\r\n",
            "Unpacking gir1.2-gtk-2.0 (2.24.32-1ubuntu1) ...\r\n",
            "Selecting previously unselected package libibus-1.0-5:amd64.\r\n",
            "Preparing to unpack .../22-libibus-1.0-5_1.5.17-3ubuntu5.3_amd64.deb ...\r\n",
            "Unpacking libibus-1.0-5:amd64 (1.5.17-3ubuntu5.3) ...\r\n",
            "Selecting previously unselected package gir1.2-ibus-1.0:amd64.\r\n",
            "Preparing to unpack .../23-gir1.2-ibus-1.0_1.5.17-3ubuntu5.3_amd64.deb ...\r\n",
            "Unpacking gir1.2-ibus-1.0:amd64 (1.5.17-3ubuntu5.3) ...\r\n",
            "Selecting previously unselected package libarchive-cpio-perl.\r\n",
            "Preparing to unpack .../24-libarchive-cpio-perl_0.10-1_all.deb ...\r\n",
            "Unpacking libarchive-cpio-perl (0.10-1) ...\r\n",
            "Selecting previously unselected package libatk1.0-dev:amd64.\r\n",
            "Preparing to unpack .../25-libatk1.0-dev_2.28.1-1_amd64.deb ...\r\n",
            "Unpacking libatk1.0-dev:amd64 (2.28.1-1) ...\r\n",
            "Selecting previously unselected package libaudio2:amd64.\r\n",
            "Preparing to unpack .../26-libaudio2_1.9.4-6_amd64.deb ...\r\n",
            "Unpacking libaudio2:amd64 (1.9.4-6) ...\r\n",
            "Selecting previously unselected package libcairo-script-interpreter2:amd64.\r\n",
            "Preparing to unpack .../27-libcairo-script-interpreter2_1.15.10-2ubuntu0.1_amd64.deb ...\r\n",
            "Unpacking libcairo-script-interpreter2:amd64 (1.15.10-2ubuntu0.1) ...\r\n",
            "Selecting previously unselected package libpixman-1-dev:amd64.\r\n",
            "Preparing to unpack .../28-libpixman-1-dev_0.34.0-2_amd64.deb ...\r\n",
            "Unpacking libpixman-1-dev:amd64 (0.34.0-2) ...\r\n",
            "Selecting previously unselected package libxcb-shm0-dev:amd64.\r\n",
            "Preparing to unpack .../29-libxcb-shm0-dev_1.13-2~ubuntu18.04_amd64.deb ...\r\n",
            "Unpacking libxcb-shm0-dev:amd64 (1.13-2~ubuntu18.04) ...\r\n",
            "Selecting previously unselected package libcairo2-dev:amd64.\r\n",
            "Preparing to unpack .../30-libcairo2-dev_1.15.10-2ubuntu0.1_amd64.deb ...\r\n",
            "Unpacking libcairo2-dev:amd64 (1.15.10-2ubuntu0.1) ...\r\n",
            "Selecting previously unselected package libcapnp-0.6.1:amd64.\r\n",
            "Preparing to unpack .../31-libcapnp-0.6.1_0.6.1-1ubuntu1_amd64.deb ...\r\n",
            "Unpacking libcapnp-0.6.1:amd64 (0.6.1-1ubuntu1) ...\r\n",
            "Selecting previously unselected package libdbus-1-dev:amd64.\r\n",
            "Preparing to unpack .../32-libdbus-1-dev_1.12.2-1ubuntu1.1_amd64.deb ...\r\n",
            "Unpacking libdbus-1-dev:amd64 (1.12.2-1ubuntu1.1) ...\r\n",
            "Selecting previously unselected package libfluidsynth1:amd64.\r\n",
            "Preparing to unpack .../33-libfluidsynth1_1.1.9-1_amd64.deb ...\r\n",
            "Unpacking libfluidsynth1:amd64 (1.1.9-1) ...\r\n",
            "Selecting previously unselected package libfluidsynth-dev:amd64.\r\n",
            "Preparing to unpack .../34-libfluidsynth-dev_1.1.9-1_amd64.deb ...\r\n",
            "Unpacking libfluidsynth-dev:amd64 (1.1.9-1) ...\r\n",
            "Selecting previously unselected package libgdk-pixbuf2.0-dev.\r\n",
            "Preparing to unpack .../35-libgdk-pixbuf2.0-dev_2.36.11-2_amd64.deb ...\r\n",
            "Unpacking libgdk-pixbuf2.0-dev (2.36.11-2) ...\r\n",
            "Selecting previously unselected package libgme-dev:amd64.\r\n",
            "Preparing to unpack .../36-libgme-dev_0.6.2-1_amd64.deb ...\r\n",
            "Unpacking libgme-dev:amd64 (0.6.2-1) ...\r\n",
            "Selecting previously unselected package libpango1.0-dev.\r\n",
            "Preparing to unpack .../37-libpango1.0-dev_1.40.14-1ubuntu0.1_amd64.deb ...\r\n",
            "Unpacking libpango1.0-dev (1.40.14-1ubuntu0.1) ...\r\n",
            "Selecting previously unselected package x11proto-xinerama-dev.\r\n",
            "Preparing to unpack .../38-x11proto-xinerama-dev_2018.4-4_all.deb ...\r\n",
            "Unpacking x11proto-xinerama-dev (2018.4-4) ...\r\n",
            "Selecting previously unselected package libxinerama-dev:amd64.\r\n",
            "Preparing to unpack .../39-libxinerama-dev_2%3a1.1.3-1_amd64.deb ...\r\n",
            "Unpacking libxinerama-dev:amd64 (2:1.1.3-1) ...\r\n",
            "Selecting previously unselected package x11proto-randr-dev.\r\n",
            "Preparing to unpack .../40-x11proto-randr-dev_2018.4-4_all.deb ...\r\n",
            "Unpacking x11proto-randr-dev (2018.4-4) ...\r\n",
            "Selecting previously unselected package libxrandr-dev:amd64.\r\n",
            "Preparing to unpack .../41-libxrandr-dev_2%3a1.5.1-1_amd64.deb ...\r\n",
            "Unpacking libxrandr-dev:amd64 (2:1.5.1-1) ...\r\n",
            "Selecting previously unselected package libxcursor-dev:amd64.\r\n",
            "Preparing to unpack .../42-libxcursor-dev_1%3a1.1.15-1_amd64.deb ...\r\n",
            "Unpacking libxcursor-dev:amd64 (1:1.1.15-1) ...\r\n",
            "Selecting previously unselected package x11proto-composite-dev.\r\n",
            "Preparing to unpack .../43-x11proto-composite-dev_1%3a2018.4-4_all.deb ...\r\n",
            "Unpacking x11proto-composite-dev (1:2018.4-4) ...\r\n",
            "Selecting previously unselected package libxcomposite-dev:amd64.\r\n",
            "Preparing to unpack .../44-libxcomposite-dev_1%3a0.4.4-2_amd64.deb ...\r\n",
            "Unpacking libxcomposite-dev:amd64 (1:0.4.4-2) ...\r\n",
            "Selecting previously unselected package libxml2-utils.\r\n",
            "Preparing to unpack .../45-libxml2-utils_2.9.4+dfsg1-6.1ubuntu1.3_amd64.deb ...\r\n",
            "Unpacking libxml2-utils (2.9.4+dfsg1-6.1ubuntu1.3) ...\r\n",
            "Selecting previously unselected package libgtk2.0-dev.\r\n",
            "Preparing to unpack .../46-libgtk2.0-dev_2.24.32-1ubuntu1_amd64.deb ...\r\n",
            "Unpacking libgtk2.0-dev (2.24.32-1ubuntu1) ...\r\n",
            "Selecting previously unselected package libibus-1.0-dev:amd64.\r\n",
            "Preparing to unpack .../47-libibus-1.0-dev_1.5.17-3ubuntu5.3_amd64.deb ...\r\n",
            "Unpacking libibus-1.0-dev:amd64 (1.5.17-3ubuntu5.3) ...\r\n",
            "Selecting previously unselected package libsys-hostname-long-perl.\r\n",
            "Preparing to unpack .../48-libsys-hostname-long-perl_1.5-1_all.deb ...\r\n",
            "Unpacking libsys-hostname-long-perl (1.5-1) ...\r\n",
            "Selecting previously unselected package libmail-sendmail-perl.\r\n",
            "Preparing to unpack .../49-libmail-sendmail-perl_0.80-1_all.deb ...\r\n",
            "Unpacking libmail-sendmail-perl (0.80-1) ...\r\n",
            "Selecting previously unselected package libmircore1:amd64.\r\n",
            "Preparing to unpack .../50-libmircore1_0.31.1-0ubuntu1_amd64.deb ...\r\n",
            "Unpacking libmircore1:amd64 (0.31.1-0ubuntu1) ...\r\n",
            "Selecting previously unselected package libmircommon7:amd64.\r\n",
            "Preparing to unpack .../51-libmircommon7_0.31.1-0ubuntu1_amd64.deb ...\r\n",
            "Unpacking libmircommon7:amd64 (0.31.1-0ubuntu1) ...\r\n",
            "Selecting previously unselected package libprotobuf-lite10:amd64.\r\n",
            "Preparing to unpack .../52-libprotobuf-lite10_3.0.0-9.1ubuntu1_amd64.deb ...\r\n",
            "Unpacking libprotobuf-lite10:amd64 (3.0.0-9.1ubuntu1) ...\r\n",
            "Selecting previously unselected package libmirprotobuf3:amd64.\r\n",
            "Preparing to unpack .../53-libmirprotobuf3_0.31.1-0ubuntu1_amd64.deb ...\r\n",
            "Unpacking libmirprotobuf3:amd64 (0.31.1-0ubuntu1) ...\r\n",
            "Selecting previously unselected package libmirclient9:amd64.\r\n",
            "Preparing to unpack .../54-libmirclient9_0.31.1-0ubuntu1_amd64.deb ...\r\n",
            "Unpacking libmirclient9:amd64 (0.31.1-0ubuntu1) ...\r\n",
            "Selecting previously unselected package libmircore-dev:amd64.\r\n",
            "Preparing to unpack .../55-libmircore-dev_0.31.1-0ubuntu1_amd64.deb ...\r\n",
            "Unpacking libmircore-dev:amd64 (0.31.1-0ubuntu1) ...\r\n",
            "Selecting previously unselected package libprotobuf-dev:amd64.\r\n",
            "Preparing to unpack .../56-libprotobuf-dev_3.0.0-9.1ubuntu1_amd64.deb ...\r\n",
            "Unpacking libprotobuf-dev:amd64 (3.0.0-9.1ubuntu1) ...\r\n",
            "Selecting previously unselected package libxkbcommon-dev:amd64.\r\n",
            "Preparing to unpack .../57-libxkbcommon-dev_0.8.2-1~ubuntu18.04.1_amd64.deb ...\r\n",
            "Unpacking libxkbcommon-dev:amd64 (0.8.2-1~ubuntu18.04.1) ...\r\n",
            "Selecting previously unselected package libmircommon-dev:amd64.\r\n",
            "Preparing to unpack .../58-libmircommon-dev_0.31.1-0ubuntu1_amd64.deb ...\r\n",
            "Unpacking libmircommon-dev:amd64 (0.31.1-0ubuntu1) ...\r\n",
            "Selecting previously unselected package libmircookie2:amd64.\r\n",
            "Preparing to unpack .../59-libmircookie2_0.31.1-0ubuntu1_amd64.deb ...\r\n",
            "Unpacking libmircookie2:amd64 (0.31.1-0ubuntu1) ...\r\n",
            "Selecting previously unselected package libmircookie-dev:amd64.\r\n",
            "Preparing to unpack .../60-libmircookie-dev_0.31.1-0ubuntu1_amd64.deb ...\r\n",
            "Unpacking libmircookie-dev:amd64 (0.31.1-0ubuntu1) ...\r\n",
            "Selecting previously unselected package libmirclient-dev:amd64.\r\n",
            "Preparing to unpack .../61-libmirclient-dev_0.31.1-0ubuntu1_amd64.deb ...\r\n",
            "Unpacking libmirclient-dev:amd64 (0.31.1-0ubuntu1) ...\r\n",
            "Selecting previously unselected package libopenal-dev:amd64.\r\n",
            "Preparing to unpack .../62-libopenal-dev_1%3a1.18.2-2_amd64.deb ...\r\n",
            "Unpacking libopenal-dev:amd64 (1:1.18.2-2) ...\r\n",
            "Selecting previously unselected package libpulse-mainloop-glib0:amd64.\r\n",
            "Preparing to unpack .../63-libpulse-mainloop-glib0_1%3a11.1-1ubuntu7.4_amd64.deb ...\r\n",
            "Unpacking libpulse-mainloop-glib0:amd64 (1:11.1-1ubuntu7.4) ...\r\n",
            "Selecting previously unselected package libpulse-dev:amd64.\r\n",
            "Preparing to unpack .../64-libpulse-dev_1%3a11.1-1ubuntu7.4_amd64.deb ...\r\n",
            "Unpacking libpulse-dev:amd64 (1:11.1-1ubuntu7.4) ...\r\n",
            "Selecting previously unselected package libsndio-dev:amd64.\r\n",
            "Preparing to unpack .../65-libsndio-dev_1.1.0-3_amd64.deb ...\r\n",
            "Unpacking libsndio-dev:amd64 (1.1.0-3) ...\r\n",
            "Selecting previously unselected package libudev-dev:amd64.\r\n",
            "Preparing to unpack .../66-libudev-dev_237-3ubuntu10.39_amd64.deb ...\r\n",
            "Unpacking libudev-dev:amd64 (237-3ubuntu10.39) ...\r\n",
            "Selecting previously unselected package libxv-dev:amd64.\r\n",
            "Preparing to unpack .../67-libxv-dev_2%3a1.0.11-1_amd64.deb ...\r\n",
            "Unpacking libxv-dev:amd64 (2:1.0.11-1) ...\r\n",
            "Selecting previously unselected package libsdl2-dev:amd64.\r\n",
            "Preparing to unpack .../68-libsdl2-dev_2.0.8+dfsg1-1ubuntu1.18.04.4_amd64.deb ...\r\n",
            "Unpacking libsdl2-dev:amd64 (2.0.8+dfsg1-1ubuntu1.18.04.4) ...\r\n",
            "Selecting previously unselected package libwildmidi-config.\r\n",
            "Preparing to unpack .../69-libwildmidi-config_0.4.2-1_all.deb ...\r\n",
            "Unpacking libwildmidi-config (0.4.2-1) ...\r\n",
            "Selecting previously unselected package libwildmidi2:amd64.\r\n",
            "Preparing to unpack .../70-libwildmidi2_0.4.2-1_amd64.deb ...\r\n",
            "Unpacking libwildmidi2:amd64 (0.4.2-1) ...\r\n",
            "Selecting previously unselected package libwildmidi-dev.\r\n",
            "Preparing to unpack .../71-libwildmidi-dev_0.4.2-1_amd64.deb ...\r\n",
            "Unpacking libwildmidi-dev (0.4.2-1) ...\r\n",
            "Selecting previously unselected package nasm.\r\n",
            "Preparing to unpack .../72-nasm_2.13.02-0.1_amd64.deb ...\r\n",
            "Unpacking nasm (2.13.02-0.1) ...\r\n",
            "Selecting previously unselected package timidity.\r\n",
            "Preparing to unpack .../73-timidity_2.13.2-41_amd64.deb ...\r\n",
            "Unpacking timidity (2.13.2-41) ...\r\n",
            "Selecting previously unselected package timidity-daemon.\r\n",
            "Preparing to unpack .../74-timidity-daemon_2.13.2-41_all.deb ...\r\n",
            "Unpacking timidity-daemon (2.13.2-41) ...\r\n",
            "Setting up libdbus-1-dev:amd64 (1.12.2-1ubuntu1.1) ...\r\n",
            "Setting up libxcursor-dev:amd64 (1:1.1.15-1) ...\r\n",
            "Setting up gir1.2-atk-1.0:amd64 (2.28.1-1) ...\r\n",
            "Setting up libxkbcommon-dev:amd64 (0.8.2-1~ubuntu18.04.1) ...\r\n",
            "Setting up libpulse-mainloop-glib0:amd64 (1:11.1-1ubuntu7.4) ...\r\n",
            "Setting up libpulse-dev:amd64 (1:11.1-1ubuntu7.4) ...\r\n",
            "Setting up libarchive-zip-perl (1.60-1ubuntu0.1) ...\r\n",
            "Setting up libmircore-dev:amd64 (0.31.1-0ubuntu1) ...\r\n",
            "Setting up libtimedate-perl (2.3000-2) ...\r\n",
            "Setting up libcairo-script-interpreter2:amd64 (1.15.10-2ubuntu0.1) ...\r\n",
            "Setting up libsigsegv2:amd64 (2.12-1) ...\r\n",
            "Setting up libgme-dev:amd64 (0.6.2-1) ...\r\n",
            "Setting up gir1.2-freedesktop:amd64 (1.56.1-1) ...\r\n",
            "Setting up libsndio-dev:amd64 (1.1.0-3) ...\r\n",
            "Setting up libxcb-shm0-dev:amd64 (1.13-2~ubuntu18.04) ...\r\n",
            "Setting up libpangoxft-1.0-0:amd64 (1.40.14-1ubuntu0.1) ...\r\n",
            "Setting up libxml2-utils (2.9.4+dfsg1-6.1ubuntu1.3) ...\r\n",
            "Setting up libarchive-cpio-perl (0.10-1) ...\r\n",
            "Setting up gir1.2-gdkpixbuf-2.0:amd64 (2.36.11-2) ...\r\n",
            "Setting up libatk1.0-dev:amd64 (2.28.1-1) ...\r\n",
            "Setting up gettext-base (0.19.8.1-6ubuntu0.3) ...\r\n",
            "Setting up m4 (1.4.18-1) ...\r\n",
            "Setting up gir1.2-pango-1.0:amd64 (1.40.14-1ubuntu0.1) ...\r\n",
            "Setting up libopenal-dev:amd64 (1:1.18.2-2) ...\r\n",
            "Setting up libsys-hostname-long-perl (1.5-1) ...\r\n",
            "Setting up libwildmidi-config (0.4.2-1) ...\r\n",
            "Setting up libmircookie2:amd64 (0.31.1-0ubuntu1) ...\r\n",
            "Setting up libgdk-pixbuf2.0-dev (2.36.11-2) ...\r\n",
            "Setting up libmail-sendmail-perl (0.80-1) ...\r\n",
            "Setting up x11proto-xinerama-dev (2018.4-4) ...\r\n",
            "Setting up libpixman-1-dev:amd64 (0.34.0-2) ...\r\n",
            "Setting up x11proto-randr-dev (2018.4-4) ...\r\n",
            "Setting up libxinerama-dev:amd64 (2:1.1.3-1) ...\r\n",
            "Setting up libxv-dev:amd64 (2:1.0.11-1) ...\r\n",
            "Setting up nasm (2.13.02-0.1) ...\r\n",
            "Setting up libcapnp-0.6.1:amd64 (0.6.1-1ubuntu1) ...\r\n",
            "Setting up libibus-1.0-5:amd64 (1.5.17-3ubuntu5.3) ...\r\n",
            "Setting up libmircore1:amd64 (0.31.1-0ubuntu1) ...\r\n",
            "Setting up freepats (20060219-1) ...\r\n",
            "Setting up libprotobuf-lite10:amd64 (3.0.0-9.1ubuntu1) ...\r\n",
            "Setting up libudev-dev:amd64 (237-3ubuntu10.39) ...\r\n",
            "Setting up libfluidsynth1:amd64 (1.1.9-1) ...\r\n",
            "Setting up x11proto-composite-dev (1:2018.4-4) ...\r\n",
            "Setting up autopoint (0.19.8.1-6ubuntu0.3) ...\r\n",
            "Setting up libaudio2:amd64 (1.9.4-6) ...\r\n",
            "Setting up libfile-stripnondeterminism-perl (0.040-1.1~build1) ...\r\n",
            "Setting up gir1.2-gtk-2.0 (2.24.32-1ubuntu1) ...\r\n",
            "Setting up gir1.2-ibus-1.0:amd64 (1.5.17-3ubuntu5.3) ...\r\n",
            "Setting up libxrandr-dev:amd64 (2:1.5.1-1) ...\r\n",
            "Setting up libcairo2-dev:amd64 (1.15.10-2ubuntu0.1) ...\r\n",
            "Setting up gettext (0.19.8.1-6ubuntu0.3) ...\r\n",
            "Setting up libxcomposite-dev:amd64 (1:0.4.4-2) ...\r\n",
            "Setting up libmirprotobuf3:amd64 (0.31.1-0ubuntu1) ...\r\n",
            "Setting up libprotobuf-dev:amd64 (3.0.0-9.1ubuntu1) ...\r\n",
            "Setting up autoconf (2.69-11) ...\r\n",
            "Setting up libmircookie-dev:amd64 (0.31.1-0ubuntu1) ...\r\n",
            "Setting up libwildmidi2:amd64 (0.4.2-1) ...\r\n",
            "Setting up intltool-debian (0.35.0+20060710.4) ...\r\n",
            "Setting up libibus-1.0-dev:amd64 (1.5.17-3ubuntu5.3) ...\r\n",
            "Setting up automake (1:1.15.1-3ubuntu2) ...\r\n",
            "update-alternatives: using /usr/bin/automake-1.15 to provide /usr/bin/automake (automake) in auto mode\r\n",
            "Setting up libmircommon7:amd64 (0.31.1-0ubuntu1) ...\r\n",
            "Setting up libpango1.0-dev (1.40.14-1ubuntu0.1) ...\r\n",
            "Setting up libfluidsynth-dev:amd64 (1.1.9-1) ...\r\n",
            "Setting up timidity (2.13.2-41) ...\r\n",
            "Setting up po-debconf (1.0.20) ...\r\n",
            "Setting up libwildmidi-dev (0.4.2-1) ...\r\n",
            "Setting up libgtk2.0-dev (2.24.32-1ubuntu1) ...\r\n",
            "Setting up libmirclient9:amd64 (0.31.1-0ubuntu1) ...\r\n",
            "Setting up libmircommon-dev:amd64 (0.31.1-0ubuntu1) ...\r\n",
            "Setting up timidity-daemon (2.13.2-41) ...\r\n",
            "Adding group timidity....done\r\n",
            "Adding system user timidity....done\r\n",
            "Adding user `timidity' to group `audio' ...\r\n",
            "Adding user timidity to group audio\r\n",
            "Done.\r\n",
            "invoke-rc.d: could not determine current runlevel\r\n",
            "invoke-rc.d: policy-rc.d denied execution of stop.\r\n",
            "invoke-rc.d: could not determine current runlevel\r\n",
            "invoke-rc.d: policy-rc.d denied execution of start.\r\n",
            "Setting up libmirclient-dev:amd64 (0.31.1-0ubuntu1) ...\r\n",
            "Setting up libsdl2-dev:amd64 (2.0.8+dfsg1-1ubuntu1.18.04.4) ...\r\n",
            "Setting up debhelper (11.1.6ubuntu2) ...\r\n",
            "Setting up dh-autoreconf (17) ...\r\n",
            "Setting up dh-strip-nondeterminism (0.040-1.1~build1) ...\r\n",
            "Processing triggers for libc-bin (2.27-3ubuntu1) ...\r\n",
            "/sbin/ldconfig.real: /usr/local/lib/python3.6/dist-packages/ideep4py/lib/libmkldnn.so.0 is not a symbolic link\r\n",
            "\r\n",
            "Processing triggers for systemd (237-3ubuntu10.39) ...\r\n",
            "Processing triggers for man-db (2.8.3-2ubuntu0.1) ...\r\n",
            "Reading package lists...\n",
            "Building dependency tree...\n",
            "Reading state information...\n",
            "libboost-all-dev is already the newest version (1.65.1.0ubuntu1).\n",
            "0 upgraded, 0 newly installed, 0 to remove and 37 not upgraded.\n",
            "Reading package lists...\n",
            "Building dependency tree...\n",
            "Reading state information...\n",
            "liblua5.1-0-dev is already the newest version (5.1.5-8.1build2).\n",
            "0 upgraded, 0 newly installed, 0 to remove and 37 not upgraded.\n"
          ],
          "name": "stdout"
        }
      ]
    },
    {
      "cell_type": "code",
      "metadata": {
        "id": "WGZ9hlTGaWlF",
        "colab_type": "code",
        "colab": {
          "base_uri": "https://localhost:8080/",
          "height": 35
        },
        "outputId": "3923f12f-204f-4458-96aa-165916c6dcab"
      },
      "source": [
        "import tensorflow as tf      # Deep Learning library\n",
        "import numpy as np           # Handle matrices\n",
        "from vizdoom import *        # Doom Environment\n",
        "import random                # Handling random number generation\n",
        "import time                  # Handling time calculation\n",
        "from skimage import transform# Help us to preprocess the frames\n",
        "from skimage.transform import resize\n",
        "from collections import deque# Ordered collection with ends\n",
        "import matplotlib.pyplot as plt # Display graphs\n",
        "\n",
        "print ('Done')"
      ],
      "execution_count": 30,
      "outputs": [
        {
          "output_type": "stream",
          "text": [
            "Done\n"
          ],
          "name": "stdout"
        }
      ]
    },
    {
      "cell_type": "code",
      "metadata": {
        "id": "Rb4VME5YaobE",
        "colab_type": "code",
        "colab": {}
      },
      "source": [
        "# Copies one set of variables to another.\n",
        "# Used to set worker network parameters to those of global network.\n",
        "def update_target_graph(from_scope,to_scope):\n",
        "    from_vars = tf.get_collection(tf.GraphKeys.TRAINABLE_VARIABLES, from_scope)\n",
        "    to_vars = tf.get_collection(tf.GraphKeys.TRAINABLE_VARIABLES, to_scope)\n",
        "\n",
        "    op_holder = []\n",
        "    for from_var,to_var in zip(from_vars,to_vars):\n",
        "        op_holder.append(to_var.assign(from_var))\n",
        "    return op_holder\n",
        "\n",
        "# Processes Doom screen image to produce cropped and resized image. \n",
        "def process_frame(frame):\n",
        "    s = frame[10:-10,30:-30]\n",
        "    \n",
        "    s=np.array(Image.fromarray(s).resize([84,84]))\n",
        "    s = np.reshape(s,[np.prod(s.shape)]) / 255.0\n",
        "    return s\n",
        "\n",
        "# Discounting function used to calculate discounted returns.\n",
        "def discount(x, gamma):\n",
        "    return scipy.signal.lfilter([1], [1, -gamma], x[::-1], axis=0)[::-1]\n",
        "\n",
        "#Used to initialize weights for policy and value output layers\n",
        "def normalized_columns_initializer(std=1.0):\n",
        "    def _initializer(shape, dtype=None, partition_info=None):\n",
        "        out = np.random.randn(*shape).astype(np.float32)\n",
        "        out *= std / np.sqrt(np.square(out).sum(axis=0, keepdims=True))\n",
        "        return tf.constant"
      ],
      "execution_count": 0,
      "outputs": []
    },
    {
      "cell_type": "code",
      "metadata": {
        "id": "EQSPCPfQdChY",
        "colab_type": "code",
        "colab": {}
      },
      "source": [
        "class AC_Network():\n",
        "    def __init__(self,s_size,a_size,scope,trainer):\n",
        "        with tf.variable_scope(scope):\n",
        "            #Input and visual encoding layers\n",
        "            self.inputs = tf.placeholder(shape=[None,s_size],dtype=tf.float32)\n",
        "            self.imageIn = tf.reshape(self.inputs,shape=[-1,84,84,1])\n",
        "            self.conv1 = slim.conv2d(activation_fn=tf.nn.elu,\n",
        "                inputs=self.imageIn,num_outputs=16,\n",
        "                kernel_size=[8,8],stride=[4,4],padding='VALID')\n",
        "            self.conv2 = slim.conv2d(activation_fn=tf.nn.elu,\n",
        "                inputs=self.conv1,num_outputs=32,\n",
        "                kernel_size=[4,4],stride=[2,2],padding='VALID')\n",
        "            hidden = slim.fully_connected(slim.flatten(self.conv2),256,activation_fn=tf.nn.elu)\n",
        "            \n",
        "            #Recurrent network for temporal dependencies\n",
        "            lstm_cell = tf.contrib.rnn.BasicLSTMCell(256,state_is_tuple=True)\n",
        "            c_init = np.zeros((1, lstm_cell.state_size.c), np.float32)\n",
        "            h_init = np.zeros((1, lstm_cell.state_size.h), np.float32)\n",
        "            self.state_init = [c_init, h_init]\n",
        "            c_in = tf.placeholder(tf.float32, [1, lstm_cell.state_size.c])\n",
        "            h_in = tf.placeholder(tf.float32, [1, lstm_cell.state_size.h])\n",
        "            self.state_in = (c_in, h_in)\n",
        "            rnn_in = tf.expand_dims(hidden, [0])\n",
        "            step_size = tf.shape(self.imageIn)[:1]\n",
        "            state_in = tf.contrib.rnn.LSTMStateTuple(c_in, h_in)\n",
        "            lstm_outputs, lstm_state = tf.nn.dynamic_rnn(\n",
        "                lstm_cell, rnn_in, initial_state=state_in, sequence_length=step_size,\n",
        "                time_major=False)\n",
        "            lstm_c, lstm_h = lstm_state\n",
        "            self.state_out = (lstm_c[:1, :], lstm_h[:1, :])\n",
        "            rnn_out = tf.reshape(lstm_outputs, [-1, 256])\n",
        "            \n",
        "            #Output layers for policy and value estimations\n",
        "            self.policy = slim.fully_connected(rnn_out,a_size,\n",
        "                activation_fn=tf.nn.softmax,\n",
        "                weights_initializer=normalized_columns_initializer(0.01),\n",
        "                biases_initializer=None)\n",
        "            self.value = slim.fully_connected(rnn_out,1,\n",
        "                activation_fn=None,\n",
        "                weights_initializer=normalized_columns_initializer(1.0),\n",
        "                biases_initializer=None)\n",
        "            \n",
        "            #Only the worker network need ops for loss functions and gradient updating.\n",
        "            if scope != 'global':\n",
        "                self.actions = tf.placeholder(shape=[None],dtype=tf.int32)\n",
        "                self.actions_onehot = tf.one_hot(self.actions,a_size,dtype=tf.float32)\n",
        "                self.target_v = tf.placeholder(shape=[None],dtype=tf.float32)\n",
        "                self.advantages = tf.placeholder(shape=[None],dtype=tf.float32)\n",
        "\n",
        "                self.responsible_outputs = tf.reduce_sum(self.policy * self.actions_onehot, [1])\n",
        "\n",
        "                #Loss functions\n",
        "                self.value_loss = 0.5 * tf.reduce_sum(tf.square(self.target_v - tf.reshape(self.value,[-1])))\n",
        "                self.entropy = - tf.reduce_sum(self.policy * tf.log(self.policy))\n",
        "                self.policy_loss = -tf.reduce_sum(tf.log(self.responsible_outputs)*self.advantages)\n",
        "                self.loss = 0.5 * self.value_loss + self.policy_loss - self.entropy * 0.01\n",
        "\n",
        "                #Get gradients from local network using local losses\n",
        "                local_vars = tf.get_collection(tf.GraphKeys.TRAINABLE_VARIABLES, scope)\n",
        "                self.gradients = tf.gradients(self.loss,local_vars)\n",
        "                self.var_norms = tf.global_norm(local_vars)\n",
        "                grads,self.grad_norms = tf.clip_by_global_norm(self.gradients,40.0)\n",
        "                \n",
        "                #Apply local gradients to global network\n",
        "                global_vars = tf.get_collection(tf.GraphKeys.TRAINABLE_VARIABLES, 'global')\n",
        "                self.apply_grads = trainer.apply_gradients(zip(grads,global_vars))"
      ],
      "execution_count": 0,
      "outputs": []
    },
    {
      "cell_type": "code",
      "metadata": {
        "id": "vEpfPOf9dhpC",
        "colab_type": "code",
        "colab": {}
      },
      "source": [
        "class Worker():\n",
        "    def __init__(self,game,name,s_size,a_size,trainer,model_path,global_episodes):\n",
        "        self.name = \"worker_\" + str(name)\n",
        "        self.number = name        \n",
        "        self.model_path = model_path\n",
        "        self.trainer = trainer\n",
        "        self.global_episodes = global_episodes\n",
        "        self.increment = self.global_episodes.assign_add(1)\n",
        "        self.episode_rewards = []\n",
        "        self.episode_lengths = []\n",
        "        self.episode_mean_values = []\n",
        "        self.summary_writer = tf.summary.FileWriter(\"train_\"+str(self.number))\n",
        "\n",
        "        #Create the local copy of the network and the tensorflow op to copy global paramters to local network\n",
        "        self.local_AC = AC_Network(s_size,a_size,self.name,trainer)\n",
        "        self.update_local_ops = update_target_graph('global',self.name)        \n",
        "        \n",
        "        #The Below code is related to setting up the Doom environment\n",
        "        game.set_doom_scenario_path(\"basic.wad\") #This corresponds to the simple task we will pose our agent\n",
        "        game.set_doom_map(\"map01\")\n",
        "        game.set_screen_resolution(ScreenResolution.RES_160X120)\n",
        "        game.set_screen_format(ScreenFormat.GRAY8)\n",
        "        game.set_render_hud(False)\n",
        "        game.set_render_crosshair(False)\n",
        "        game.set_render_weapon(True)\n",
        "        game.set_render_decals(False)\n",
        "        game.set_render_particles(False)\n",
        "        game.add_available_button(Button.MOVE_LEFT)\n",
        "        game.add_available_button(Button.MOVE_RIGHT)\n",
        "        game.add_available_button(Button.ATTACK)\n",
        "        game.add_available_game_variable(GameVariable.AMMO2)\n",
        "        game.add_available_game_variable(GameVariable.POSITION_X)\n",
        "        game.add_available_game_variable(GameVariable.POSITION_Y)\n",
        "        game.set_episode_timeout(300)\n",
        "        game.set_episode_start_time(10)\n",
        "        game.set_window_visible(False)\n",
        "        game.set_sound_enabled(False)\n",
        "        game.set_living_reward(-1)\n",
        "        game.set_mode(Mode.PLAYER)\n",
        "        game.init()\n",
        "        self.actions = self.actions = np.identity(a_size,dtype=bool).tolist()\n",
        "        #End Doom set-up\n",
        "        self.env = game\n",
        "        \n",
        "    def train(self,rollout,sess,gamma,bootstrap_value):\n",
        "        rollout = np.array(rollout)\n",
        "        observations = rollout[:,0]\n",
        "        actions = rollout[:,1]\n",
        "        rewards = rollout[:,2]\n",
        "        next_observations = rollout[:,3]\n",
        "        values = rollout[:,5]\n",
        "        \n",
        "        # Here we take the rewards and values from the rollout, and use them to \n",
        "        # generate the advantage and discounted returns. \n",
        "        # The advantage function uses \"Generalized Advantage Estimation\"\n",
        "        self.rewards_plus = np.asarray(rewards.tolist() + [bootstrap_value])\n",
        "        discounted_rewards = discount(self.rewards_plus,gamma)[:-1]\n",
        "        self.value_plus = np.asarray(values.tolist() + [bootstrap_value])\n",
        "        advantages = rewards + gamma * self.value_plus[1:] - self.value_plus[:-1]\n",
        "        advantages = discount(advantages,gamma)\n",
        "\n",
        "        # Update the global network using gradients from loss\n",
        "        # Generate network statistics to periodically save\n",
        "        feed_dict = {self.local_AC.target_v:discounted_rewards,\n",
        "            self.local_AC.inputs:np.vstack(observations),\n",
        "            self.local_AC.actions:actions,\n",
        "            self.local_AC.advantages:advantages,\n",
        "            self.local_AC.state_in[0]:self.batch_rnn_state[0],\n",
        "            self.local_AC.state_in[1]:self.batch_rnn_state[1]}\n",
        "        v_l,p_l,e_l,g_n,v_n, self.batch_rnn_state,_ = sess.run([self.local_AC.value_loss,\n",
        "            self.local_AC.policy_loss,\n",
        "            self.local_AC.entropy,\n",
        "            self.local_AC.grad_norms,\n",
        "            self.local_AC.var_norms,\n",
        "            self.local_AC.state_out,\n",
        "            self.local_AC.apply_grads],\n",
        "            feed_dict=feed_dict)\n",
        "        return v_l / len(rollout),p_l / len(rollout),e_l / len(rollout), g_n,v_n\n",
        "        \n",
        "    def work(self,max_episode_length,gamma,sess,coord,saver):\n",
        "        episode_count = sess.run(self.global_episodes)\n",
        "        total_steps = 0\n",
        "        print (\"Starting worker \" + str(self.number))\n",
        "        with sess.as_default(), sess.graph.as_default():                 \n",
        "            while not coord.should_stop():\n",
        "                sess.run(self.update_local_ops)\n",
        "                episode_buffer = []\n",
        "                episode_values = []\n",
        "                episode_frames = []\n",
        "                episode_reward = 0\n",
        "                episode_step_count = 0\n",
        "                d = False\n",
        "                \n",
        "                self.env.new_episode()\n",
        "                s = self.env.get_state().screen_buffer\n",
        "                episode_frames.append(s)\n",
        "                s = process_frame(s)\n",
        "                rnn_state = self.local_AC.state_init\n",
        "                self.batch_rnn_state = rnn_state\n",
        "                while self.env.is_episode_finished() == False:\n",
        "                    #Take an action using probabilities from policy network output.\n",
        "                    a_dist,v,rnn_state = sess.run([self.local_AC.policy,self.local_AC.value,self.local_AC.state_out], \n",
        "                        feed_dict={self.local_AC.inputs:[s],\n",
        "                        self.local_AC.state_in[0]:rnn_state[0],\n",
        "                        self.local_AC.state_in[1]:rnn_state[1]})\n",
        "                    a = np.random.choice(a_dist[0],p=a_dist[0])\n",
        "                    a = np.argmax(a_dist == a)\n",
        "\n",
        "                    r = self.env.make_action(self.actions[a]) / 100.0\n",
        "                    d = self.env.is_episode_finished()\n",
        "                    if d == False:\n",
        "                        s1 = self.env.get_state().screen_buffer\n",
        "                        episode_frames.append(s1)\n",
        "                        s1 = process_frame(s1)\n",
        "                    else:\n",
        "                        s1 = s\n",
        "                        \n",
        "                    episode_buffer.append([s,a,r,s1,d,v[0,0]])\n",
        "                    episode_values.append(v[0,0])\n",
        "\n",
        "                    episode_reward += r\n",
        "                    s = s1                    \n",
        "                    total_steps += 1\n",
        "                    episode_step_count += 1\n",
        "                    \n",
        "                    # If the episode hasn't ended, but the experience buffer is full, then we\n",
        "                    # make an update step using that experience rollout.\n",
        "                    if len(episode_buffer) == 30 and d != True and episode_step_count != max_episode_length - 1:\n",
        "                        # Since we don't know what the true final return is, we \"bootstrap\" from our current\n",
        "                        # value estimation.\n",
        "                        v1 = sess.run(self.local_AC.value, \n",
        "                            feed_dict={self.local_AC.inputs:[s],\n",
        "                            self.local_AC.state_in[0]:rnn_state[0],\n",
        "                            self.local_AC.state_in[1]:rnn_state[1]})[0,0]\n",
        "                        v_l,p_l,e_l,g_n,v_n = self.train(episode_buffer,sess,gamma,v1)\n",
        "                        episode_buffer = []\n",
        "                        sess.run(self.update_local_ops)\n",
        "                    if d == True:\n",
        "                        break\n",
        "                                            \n",
        "                self.episode_rewards.append(episode_reward)\n",
        "                self.episode_lengths.append(episode_step_count)\n",
        "                self.episode_mean_values.append(np.mean(episode_values))\n",
        "                \n",
        "                # Update the network using the episode buffer at the end of the episode.\n",
        "                if len(episode_buffer) != 0:\n",
        "                    v_l,p_l,e_l,g_n,v_n = self.train(episode_buffer,sess,gamma,0.0)\n",
        "                                \n",
        "                    \n",
        "                # Periodically save gifs of episodes, model parameters, and summary statistics.\n",
        "                if episode_count % 5 == 0 and episode_count != 0:\n",
        "                    if self.name == 'worker_0' and episode_count % 25 == 0:\n",
        "                        time_per_step = 0.05\n",
        "                        images = np.array(episode_frames)\n",
        "                        make_gif(images,'./frames/image'+str(episode_count)+'.gif',\n",
        "                            duration=len(images)*time_per_step,true_image=True,salience=False)\n",
        "                    if episode_count % 250 == 0 and self.name == 'worker_0':\n",
        "                        saver.save(sess,self.model_path+'/model-'+str(episode_count)+'.cptk')\n",
        "                        print (\"Saved Model\")\n",
        "\n",
        "                    mean_reward = np.mean(self.episode_rewards[-5:])\n",
        "                    mean_length = np.mean(self.episode_lengths[-5:])\n",
        "                    mean_value = np.mean(self.episode_mean_values[-5:])\n",
        "                    summary = tf.Summary()\n",
        "                    summary.value.add(tag='Perf/Reward', simple_value=float(mean_reward))\n",
        "                    summary.value.add(tag='Perf/Length', simple_value=float(mean_length))\n",
        "                    summary.value.add(tag='Perf/Value', simple_value=float(mean_value))\n",
        "                    summary.value.add(tag='Losses/Value Loss', simple_value=float(v_l))\n",
        "                    summary.value.add(tag='Losses/Policy Loss', simple_value=float(p_l))\n",
        "                    summary.value.add(tag='Losses/Entropy', simple_value=float(e_l))\n",
        "                    summary.value.add(tag='Losses/Grad Norm', simple_value=float(g_n))\n",
        "                    summary.value.add(tag='Losses/Var Norm', simple_value=float(v_n))\n",
        "                    self.summary_writer.add_summary(summary, episode_count)\n",
        "\n",
        "                    self.summary_writer.flush()\n",
        "                if self.name == 'worker_0':\n",
        "                    sess.run(self.increment)\n",
        "                episode_count += 1"
      ],
      "execution_count": 0,
      "outputs": []
    },
    {
      "cell_type": "code",
      "metadata": {
        "id": "BSjZ32d6dzGr",
        "colab_type": "code",
        "colab": {}
      },
      "source": [
        "max_episode_length = 300\n",
        "gamma = .99 # discount rate for advantage estimation and reward discounting\n",
        "s_size = 7056 # Observations are greyscale frames of 84 * 84 * 1\n",
        "a_size = 3 # Agent can move Left, Right, or Fire\n",
        "load_model = False\n",
        "model_path = './model'"
      ],
      "execution_count": 0,
      "outputs": []
    },
    {
      "cell_type": "code",
      "metadata": {
        "id": "gIzbgkwyd5WW",
        "colab_type": "code",
        "colab": {}
      },
      "source": [
        ""
      ],
      "execution_count": 0,
      "outputs": []
    },
    {
      "cell_type": "markdown",
      "metadata": {
        "id": "YZ13NOvmd9dE",
        "colab_type": "text"
      },
      "source": [
        ""
      ]
    },
    {
      "cell_type": "code",
      "metadata": {
        "id": "WXX0bTusefFF",
        "colab_type": "code",
        "colab": {
          "base_uri": "https://localhost:8080/",
          "height": 52
        },
        "outputId": "7fe1d9bd-64fa-4510-b7d6-a4d63ffb5a15"
      },
      "source": [
        ""
      ],
      "execution_count": 36,
      "outputs": [
        {
          "output_type": "stream",
          "text": [
            "Requirement already satisfied: scipy==1.2.2 in /usr/local/lib/python3.6/dist-packages (1.2.2)\n",
            "Requirement already satisfied: numpy>=1.8.2 in /usr/local/lib/python3.6/dist-packages (from scipy==1.2.2) (1.18.2)\n"
          ],
          "name": "stdout"
        }
      ]
    },
    {
      "cell_type": "code",
      "metadata": {
        "id": "iFGidnB8exRQ",
        "colab_type": "code",
        "colab": {
          "base_uri": "https://localhost:8080/",
          "height": 1000
        },
        "outputId": "0c559028-06fd-4c39-c028-5eb1e7380dde"
      },
      "source": [
        "tf.reset_default_graph()\n",
        "\n",
        "if not os.path.exists(model_path):\n",
        "    os.makedirs(model_path)\n",
        "    \n",
        "#Create a directory to save episode playback gifs to\n",
        "if not os.path.exists('./frames'):\n",
        "    os.makedirs('./frames')\n",
        "\n",
        "with tf.device(\"/cpu:0\"): \n",
        "    global_episodes = tf.Variable(0,dtype=tf.int32,name='global_episodes',trainable=False)\n",
        "    trainer = tf.train.AdamOptimizer(learning_rate=1e-4)\n",
        "    master_network = AC_Network(s_size,a_size,'global',None) # Generate global network\n",
        "    num_workers = multiprocessing.cpu_count() # Set workers to number of available CPU threads\n",
        "    workers = []\n",
        "    # Create worker classes\n",
        "    for i in range(num_workers):\n",
        "        workers.append(Worker(DoomGame(),i,s_size,a_size,trainer,model_path,global_episodes))\n",
        "    saver = tf.train.Saver(max_to_keep=5)\n",
        "\n",
        "with tf.Session() as sess:\n",
        "    coord = tf.train.Coordinator()\n",
        "    if load_model == True:\n",
        "        print ('Loading Model...')\n",
        "        ckpt = tf.train.get_checkpoint_state(model_path)\n",
        "        saver.restore(sess,ckpt.model_checkpoint_path)\n",
        "    else:\n",
        "        sess.run(tf.global_variables_initializer())\n",
        "        \n",
        "    # This is where the asynchronous magic happens.\n",
        "    # Start the \"work\" process for each worker in a separate threat.\n",
        "    worker_threads = []\n",
        "    for worker in workers:\n",
        "        worker_work = lambda: worker.work(max_episode_length,gamma,sess,coord,saver)\n",
        "        t = threading.Thread(target=(worker_work))\n",
        "        t.start()\n",
        "        sleep(0.5)\n",
        "        worker_threads.append(t)\n",
        "    coord.join(worker_threads)"
      ],
      "execution_count": 47,
      "outputs": [
        {
          "output_type": "stream",
          "text": [
            "Starting worker 0\n",
            "Starting worker 1\n",
            "Imageio: 'ffmpeg-linux64-v3.3.1' was not found on your computer; downloading it now.\n",
            "Try 1. Download from https://github.com/imageio/imageio-binaries/raw/master/ffmpeg/ffmpeg-linux64-v3.3.1 (43.8 MB)\n",
            "Downloading: 8192/45929032 bytes (0.0%)\b\b\b\b\b\b\b\b\b\b\b\b\b\b\b\b\b\b\b\b\b\b\b\b\b\b1015808/45929032 bytes (2.2%)\b\b\b\b\b\b\b\b\b\b\b\b\b\b\b\b\b\b\b\b\b\b\b\b\b\b\b\b\b2899968/45929032 bytes (6.3%)\b\b\b\b\b\b\b\b\b\b\b\b\b\b\b\b\b\b\b\b\b\b\b\b\b\b\b\b\b4571136/45929032 bytes (10.0%)\b\b\b\b\b\b\b\b\b\b\b\b\b\b\b\b\b\b\b\b\b\b\b\b\b\b\b\b\b\b6889472/45929032 bytes (15.0%)\b\b\b\b\b\b\b\b\b\b\b\b\b\b\b\b\b\b\b\b\b\b\b\b\b\b\b\b\b\b9543680/45929032 bytes (20.8%)\b\b\b\b\b\b\b\b\b\b\b\b\b\b\b\b\b\b\b\b\b\b\b\b\b\b\b\b\b\b12107776/45929032 bytes (26.4%)\b\b\b\b\b\b\b\b\b\b\b\b\b\b\b\b\b\b\b\b\b\b\b\b\b\b\b\b\b\b\b14704640/45929032 bytes (32.0%)\b\b\b\b\b\b\b\b\b\b\b\b\b\b\b\b\b\b\b\b\b\b\b\b\b\b\b\b\b\b\b16728064/45929032 bytes (36.4%)\b\b\b\b\b\b\b\b\b\b\b\b\b\b\b\b\b\b\b\b\b\b\b\b\b\b\b\b\b\b\b18792448/45929032 bytes (40.9%)\b\b\b\b\b\b\b\b\b\b\b\b\b\b\b\b\b\b\b\b\b\b\b\b\b\b\b\b\b\b\b21274624/45929032 bytes (46.3%)\b\b\b\b\b\b\b\b\b\b\b\b\b\b\b\b\b\b\b\b\b\b\b\b\b\b\b\b\b\b\b23871488/45929032 bytes (52.0%)\b\b\b\b\b\b\b\b\b\b\b\b\b\b\b\b\b\b\b\b\b\b\b\b\b\b\b\b\b\b\b25624576/45929032 bytes (55.8%)\b\b\b\b\b\b\b\b\b\b\b\b\b\b\b\b\b\b\b\b\b\b\b\b\b\b\b\b\b\b\b28196864/45929032 bytes (61.4%)\b\b\b\b\b\b\b\b\b\b\b\b\b\b\b\b\b\b\b\b\b\b\b\b\b\b\b\b\b\b\b30261248/45929032 bytes (65.9%)\b\b\b\b\b\b\b\b\b\b\b\b\b\b\b\b\b\b\b\b\b\b\b\b\b\b\b\b\b\b\b31932416/45929032 bytes (69.5%)\b\b\b\b\b\b\b\b\b\b\b\b\b\b\b\b\b\b\b\b\b\b\b\b\b\b\b\b\b\b\b33890304/45929032 bytes (73.8%)\b\b\b\b\b\b\b\b\b\b\b\b\b\b\b\b\b\b\b\b\b\b\b\b\b\b\b\b\b\b\b36093952/45929032 bytes (78.6%)\b\b\b\b\b\b\b\b\b\b\b\b\b\b\b\b\b\b\b\b\b\b\b\b\b\b\b\b\b\b\b38133760/45929032 bytes (83.0%)\b\b\b\b\b\b\b\b\b\b\b\b\b\b\b\b\b\b\b\b\b\b\b\b\b\b\b\b\b\b\b40091648/45929032 bytes (87.3%)\b\b\b\b\b\b\b\b\b\b\b\b\b\b\b\b\b\b\b\b\b\b\b\b\b\b\b\b\b\b\b42352640/45929032 bytes (92.2%)\b\b\b\b\b\b\b\b\b\b\b\b\b\b\b\b\b\b\b\b\b\b\b\b\b\b\b\b\b\b\b45031424/45929032 bytes (98.0%)\b\b\b\b\b\b\b\b\b\b\b\b\b\b\b\b\b\b\b\b\b\b\b\b\b\b\b\b\b\b\b45929032/45929032 bytes (100.0%)\n",
            "  Done\n",
            "File saved as /root/.imageio/ffmpeg/ffmpeg-linux64-v3.3.1.\n"
          ],
          "name": "stdout"
        },
        {
          "output_type": "stream",
          "text": [
            "100%|█████████▉| 300/301 [00:01<00:00, 200.27it/s]\n",
            " 98%|█████████▊| 64/65 [00:00<00:00, 194.55it/s]\n",
            "100%|█████████▉| 300/301 [00:01<00:00, 193.58it/s]\n",
            " 99%|█████████▉| 80/81 [00:00<00:00, 204.94it/s]\n",
            "100%|█████████▉| 300/301 [00:01<00:00, 201.85it/s]\n",
            " 99%|█████████▉| 196/197 [00:00<00:00, 219.08it/s]\n",
            " 98%|█████████▊| 52/53 [00:00<00:00, 178.70it/s]\n",
            "100%|█████████▉| 300/301 [00:01<00:00, 199.35it/s]\n",
            " 93%|█████████▎| 13/14 [00:00<00:00, 220.75it/s]\n",
            "100%|█████████▉| 300/301 [00:01<00:00, 206.51it/s]\n"
          ],
          "name": "stderr"
        },
        {
          "output_type": "stream",
          "text": [
            "Saved Model\n"
          ],
          "name": "stdout"
        },
        {
          "output_type": "stream",
          "text": [
            "100%|█████████▉| 300/301 [00:01<00:00, 213.65it/s]\n",
            " 98%|█████████▊| 54/55 [00:00<00:00, 195.01it/s]\n",
            "100%|█████████▉| 300/301 [00:01<00:00, 199.79it/s]\n",
            " 99%|█████████▊| 77/78 [00:00<00:00, 212.00it/s]\n",
            " 93%|█████████▎| 13/14 [00:00<00:00, 268.45it/s]\n",
            " 96%|█████████▌| 24/25 [00:00<00:00, 242.88it/s]\n",
            "100%|█████████▉| 294/295 [00:01<00:00, 198.04it/s]\n",
            " 97%|█████████▋| 32/33 [00:00<00:00, 223.35it/s]\n",
            " 97%|█████████▋| 31/32 [00:00<00:00, 191.84it/s]\n",
            " 96%|█████████▌| 25/26 [00:00<00:00, 165.79it/s]\n"
          ],
          "name": "stderr"
        },
        {
          "output_type": "stream",
          "text": [
            "Saved Model\n"
          ],
          "name": "stdout"
        },
        {
          "output_type": "stream",
          "text": [
            " 91%|█████████ | 10/11 [00:00<00:00, 224.50it/s]\n",
            " 98%|█████████▊| 39/40 [00:00<00:00, 220.63it/s]\n",
            " 98%|█████████▊| 60/61 [00:00<00:00, 213.18it/s]\n",
            " 97%|█████████▋| 34/35 [00:00<00:00, 202.77it/s]\n",
            " 96%|█████████▌| 24/25 [00:00<00:00, 183.55it/s]\n",
            " 98%|█████████▊| 41/42 [00:00<00:00, 184.51it/s]\n",
            "100%|██████████| 56/56 [00:00<00:00, 188.20it/s]\n",
            " 98%|█████████▊| 65/66 [00:00<00:00, 193.29it/s]\n",
            " 98%|█████████▊| 47/48 [00:00<00:00, 219.60it/s]\n",
            " 98%|█████████▊| 58/59 [00:00<00:00, 214.14it/s]\n"
          ],
          "name": "stderr"
        },
        {
          "output_type": "stream",
          "text": [
            "Saved Model\n"
          ],
          "name": "stdout"
        },
        {
          "output_type": "stream",
          "text": [
            " 96%|█████████▌| 25/26 [00:00<00:00, 190.12it/s]\n",
            " 97%|█████████▋| 38/39 [00:00<00:00, 215.62it/s]\n",
            " 98%|█████████▊| 41/42 [00:00<00:00, 181.28it/s]\n",
            " 97%|█████████▋| 30/31 [00:00<00:00, 152.38it/s]\n",
            " 91%|█████████ | 10/11 [00:00<00:00, 162.46it/s]\n",
            " 94%|█████████▍| 15/16 [00:00<00:00, 217.79it/s]\n",
            "100%|██████████| 28/28 [00:00<00:00, 248.43it/s]\n",
            " 94%|█████████▍| 17/18 [00:00<00:00, 265.17it/s]\n",
            " 98%|█████████▊| 53/54 [00:00<00:00, 173.49it/s]\n",
            " 97%|█████████▋| 38/39 [00:00<00:00, 164.49it/s]\n"
          ],
          "name": "stderr"
        },
        {
          "output_type": "stream",
          "text": [
            "Saved Model\n"
          ],
          "name": "stdout"
        },
        {
          "output_type": "stream",
          "text": [
            " 99%|█████████▊| 70/71 [00:00<00:00, 213.12it/s]\n",
            " 97%|█████████▋| 38/39 [00:00<00:00, 168.89it/s]\n",
            " 98%|█████████▊| 48/49 [00:00<00:00, 195.73it/s]\n",
            " 91%|█████████ | 10/11 [00:00<00:00, 208.16it/s]\n",
            " 98%|█████████▊| 44/45 [00:00<00:00, 192.01it/s]\n",
            " 98%|█████████▊| 45/46 [00:00<00:00, 216.47it/s]\n",
            " 91%|█████████ | 10/11 [00:00<00:00, 159.65it/s]\n",
            " 98%|█████████▊| 45/46 [00:00<00:00, 204.71it/s]\n",
            " 94%|█████████▍| 16/17 [00:00<00:00, 149.69it/s]\n",
            " 97%|█████████▋| 33/34 [00:00<00:00, 188.33it/s]\n"
          ],
          "name": "stderr"
        },
        {
          "output_type": "stream",
          "text": [
            "Saved Model\n"
          ],
          "name": "stdout"
        },
        {
          "output_type": "stream",
          "text": [
            " 96%|█████████▌| 25/26 [00:00<00:00, 150.39it/s]\n",
            " 98%|█████████▊| 43/44 [00:00<00:00, 214.33it/s]\n",
            " 98%|█████████▊| 47/48 [00:00<00:00, 189.99it/s]\n",
            "100%|██████████| 56/56 [00:00<00:00, 172.90it/s]\n",
            " 96%|█████████▋| 26/27 [00:00<00:00, 173.29it/s]\n",
            " 97%|█████████▋| 32/33 [00:00<00:00, 218.21it/s]\n",
            " 98%|█████████▊| 45/46 [00:00<00:00, 229.20it/s]\n",
            " 97%|█████████▋| 34/35 [00:00<00:00, 212.05it/s]\n",
            " 96%|█████████▌| 25/26 [00:00<00:00, 168.67it/s]\n",
            " 98%|█████████▊| 54/55 [00:00<00:00, 208.20it/s]\n"
          ],
          "name": "stderr"
        },
        {
          "output_type": "stream",
          "text": [
            "WARNING:tensorflow:From /tensorflow-1.15.2/python3.6/tensorflow_core/python/training/saver.py:963: remove_checkpoint (from tensorflow.python.training.checkpoint_management) is deprecated and will be removed in a future version.\n",
            "Instructions for updating:\n",
            "Use standard file APIs to delete files with this prefix.\n",
            "Saved Model\n"
          ],
          "name": "stdout"
        },
        {
          "output_type": "stream",
          "text": [
            " 98%|█████████▊| 44/45 [00:00<00:00, 206.71it/s]\n",
            " 97%|█████████▋| 32/33 [00:00<00:00, 177.36it/s]\n",
            " 98%|█████████▊| 41/42 [00:00<00:00, 177.50it/s]\n",
            " 97%|█████████▋| 35/36 [00:00<00:00, 196.36it/s]\n",
            " 97%|█████████▋| 33/34 [00:00<00:00, 208.30it/s]\n",
            " 95%|█████████▌| 21/22 [00:00<00:00, 155.74it/s]\n",
            " 93%|█████████▎| 13/14 [00:00<00:00, 175.84it/s]\n",
            " 97%|█████████▋| 31/32 [00:00<00:00, 193.07it/s]\n",
            " 97%|█████████▋| 37/38 [00:00<00:00, 231.20it/s]\n",
            " 93%|█████████▎| 13/14 [00:00<00:00, 159.48it/s]\n"
          ],
          "name": "stderr"
        },
        {
          "output_type": "stream",
          "text": [
            "Saved Model\n"
          ],
          "name": "stdout"
        },
        {
          "output_type": "stream",
          "text": [
            " 98%|█████████▊| 55/56 [00:00<00:00, 191.20it/s]\n",
            " 95%|█████████▍| 18/19 [00:00<00:00, 173.46it/s]\n",
            " 98%|█████████▊| 42/43 [00:00<00:00, 182.90it/s]\n",
            " 96%|█████████▌| 24/25 [00:00<00:00, 183.00it/s]\n",
            " 97%|█████████▋| 38/39 [00:00<00:00, 225.65it/s]\n",
            " 98%|█████████▊| 55/56 [00:00<00:00, 184.05it/s]\n",
            " 98%|█████████▊| 45/46 [00:00<00:00, 182.76it/s]\n",
            " 98%|█████████▊| 47/48 [00:00<00:00, 176.10it/s]\n",
            " 95%|█████████▌| 21/22 [00:00<00:00, 209.52it/s]\n",
            " 98%|█████████▊| 48/49 [00:00<00:00, 195.23it/s]\n"
          ],
          "name": "stderr"
        },
        {
          "output_type": "stream",
          "text": [
            "Saved Model\n"
          ],
          "name": "stdout"
        },
        {
          "output_type": "stream",
          "text": [
            " 92%|█████████▏| 12/13 [00:00<00:00, 208.24it/s]\n",
            "100%|██████████| 14/14 [00:00<00:00, 161.61it/s]\n",
            " 98%|█████████▊| 41/42 [00:00<00:00, 178.21it/s]\n",
            " 94%|█████████▍| 15/16 [00:00<00:00, 199.33it/s]\n",
            " 97%|█████████▋| 35/36 [00:00<00:00, 206.82it/s]\n",
            " 97%|█████████▋| 35/36 [00:00<00:00, 184.82it/s]\n",
            " 94%|█████████▍| 16/17 [00:00<00:00, 230.75it/s]\n",
            " 98%|█████████▊| 39/40 [00:00<00:00, 178.46it/s]\n",
            " 92%|█████████▏| 12/13 [00:00<00:00, 256.37it/s]\n",
            " 91%|█████████ | 10/11 [00:00<00:00, 165.51it/s]\n"
          ],
          "name": "stderr"
        },
        {
          "output_type": "stream",
          "text": [
            "Saved Model\n"
          ],
          "name": "stdout"
        },
        {
          "output_type": "stream",
          "text": [
            " 91%|█████████ | 10/11 [00:00<00:00, 242.12it/s]\n",
            " 96%|█████████▌| 25/26 [00:00<00:00, 202.87it/s]\n",
            " 97%|█████████▋| 38/39 [00:00<00:00, 221.02it/s]\n",
            " 97%|█████████▋| 30/31 [00:00<00:00, 184.30it/s]\n",
            " 94%|█████████▍| 16/17 [00:00<00:00, 192.03it/s]\n",
            " 91%|█████████ | 10/11 [00:00<00:00, 206.82it/s]\n",
            " 91%|█████████ | 10/11 [00:00<00:00, 201.12it/s]\n",
            " 94%|█████████▍| 17/18 [00:00<00:00, 148.47it/s]\n",
            " 97%|█████████▋| 35/36 [00:00<00:00, 196.93it/s]\n",
            " 95%|█████████▌| 21/22 [00:00<00:00, 240.83it/s]\n"
          ],
          "name": "stderr"
        },
        {
          "output_type": "stream",
          "text": [
            "Saved Model\n"
          ],
          "name": "stdout"
        },
        {
          "output_type": "stream",
          "text": [
            " 97%|█████████▋| 32/33 [00:00<00:00, 191.98it/s]\n",
            " 97%|█████████▋| 29/30 [00:00<00:00, 165.89it/s]\n",
            " 97%|█████████▋| 30/31 [00:00<00:00, 156.64it/s]\n",
            " 97%|█████████▋| 35/36 [00:00<00:00, 190.99it/s]\n",
            "100%|██████████| 28/28 [00:00<00:00, 193.97it/s]\n",
            " 97%|█████████▋| 33/34 [00:00<00:00, 215.62it/s]\n",
            " 95%|█████████▌| 19/20 [00:00<00:00, 251.67it/s]\n",
            " 97%|█████████▋| 32/33 [00:00<00:00, 174.07it/s]\n",
            " 97%|█████████▋| 30/31 [00:00<00:00, 226.47it/s]\n",
            " 96%|█████████▌| 24/25 [00:00<00:00, 254.58it/s]\n"
          ],
          "name": "stderr"
        },
        {
          "output_type": "stream",
          "text": [
            "Saved Model\n"
          ],
          "name": "stdout"
        },
        {
          "output_type": "stream",
          "text": [
            " 93%|█████████▎| 13/14 [00:00<00:00, 210.47it/s]\n",
            " 92%|█████████▏| 12/13 [00:00<00:00, 181.95it/s]\n",
            " 97%|█████████▋| 32/33 [00:00<00:00, 182.78it/s]\n",
            " 98%|█████████▊| 41/42 [00:00<00:00, 162.57it/s]\n",
            " 91%|█████████ | 10/11 [00:00<00:00, 235.59it/s]\n",
            " 98%|█████████▊| 43/44 [00:00<00:00, 189.49it/s]\n",
            " 96%|█████████▌| 22/23 [00:00<00:00, 153.71it/s]\n",
            " 97%|█████████▋| 31/32 [00:00<00:00, 226.92it/s]\n",
            " 94%|█████████▍| 16/17 [00:00<00:00, 270.21it/s]\n",
            "100%|██████████| 28/28 [00:00<00:00, 161.61it/s]\n"
          ],
          "name": "stderr"
        },
        {
          "output_type": "stream",
          "text": [
            "Saved Model\n"
          ],
          "name": "stdout"
        },
        {
          "output_type": "stream",
          "text": [
            " 97%|█████████▋| 35/36 [00:00<00:00, 184.91it/s]\n",
            " 95%|█████████▌| 19/20 [00:00<00:00, 209.84it/s]\n",
            " 93%|█████████▎| 13/14 [00:00<00:00, 171.56it/s]\n",
            " 97%|█████████▋| 34/35 [00:00<00:00, 184.59it/s]\n",
            " 96%|█████████▋| 26/27 [00:00<00:00, 173.87it/s]\n",
            " 96%|█████████▌| 22/23 [00:00<00:00, 180.33it/s]\n",
            " 97%|█████████▋| 29/30 [00:00<00:00, 209.17it/s]\n",
            " 95%|█████████▌| 19/20 [00:00<00:00, 163.11it/s]\n",
            " 97%|█████████▋| 31/32 [00:00<00:00, 186.87it/s]\n",
            " 91%|█████████ | 10/11 [00:00<00:00, 170.60it/s]\n"
          ],
          "name": "stderr"
        },
        {
          "output_type": "stream",
          "text": [
            "Saved Model\n"
          ],
          "name": "stdout"
        },
        {
          "output_type": "stream",
          "text": [
            " 94%|█████████▍| 16/17 [00:00<00:00, 168.24it/s]\n",
            " 91%|█████████ | 10/11 [00:00<00:00, 231.01it/s]\n",
            " 94%|█████████▍| 17/18 [00:00<00:00, 202.80it/s]\n",
            " 97%|█████████▋| 35/36 [00:00<00:00, 176.58it/s]\n",
            " 98%|█████████▊| 45/46 [00:00<00:00, 171.74it/s]\n",
            "100%|██████████| 14/14 [00:00<00:00, 175.74it/s]\n",
            " 96%|█████████▌| 24/25 [00:00<00:00, 163.45it/s]\n",
            " 97%|█████████▋| 30/31 [00:00<00:00, 176.32it/s]\n",
            " 92%|█████████▏| 12/13 [00:00<00:00, 154.80it/s]\n",
            " 96%|█████████▌| 25/26 [00:00<00:00, 199.31it/s]\n"
          ],
          "name": "stderr"
        },
        {
          "output_type": "stream",
          "text": [
            "Saved Model\n"
          ],
          "name": "stdout"
        },
        {
          "output_type": "stream",
          "text": [
            " 96%|█████████▌| 24/25 [00:00<00:00, 167.28it/s]\n",
            " 98%|█████████▊| 48/49 [00:00<00:00, 199.74it/s]\n",
            " 95%|█████████▌| 19/20 [00:00<00:00, 170.55it/s]\n",
            " 98%|█████████▊| 44/45 [00:00<00:00, 145.67it/s]\n",
            "100%|██████████| 28/28 [00:00<00:00, 203.55it/s]\n",
            " 98%|█████████▊| 43/44 [00:00<00:00, 172.61it/s]\n",
            " 97%|█████████▋| 35/36 [00:00<00:00, 172.25it/s]\n",
            " 91%|█████████ | 10/11 [00:00<00:00, 235.97it/s]\n",
            " 96%|█████████▌| 23/24 [00:00<00:00, 270.42it/s]\n",
            " 92%|█████████▏| 11/12 [00:00<00:00, 247.77it/s]\n"
          ],
          "name": "stderr"
        },
        {
          "output_type": "stream",
          "text": [
            "Saved Model\n"
          ],
          "name": "stdout"
        },
        {
          "output_type": "stream",
          "text": [
            " 94%|█████████▍| 16/17 [00:00<00:00, 223.17it/s]\n",
            " 96%|█████████▌| 23/24 [00:00<00:00, 210.40it/s]\n",
            " 92%|█████████▏| 11/12 [00:00<00:00, 141.98it/s]\n",
            " 96%|█████████▌| 25/26 [00:00<00:00, 191.42it/s]\n",
            " 96%|█████████▌| 23/24 [00:00<00:00, 156.34it/s]\n",
            " 96%|█████████▋| 27/28 [00:00<00:00, 183.79it/s]\n",
            " 96%|█████████▋| 26/27 [00:00<00:00, 182.84it/s]\n",
            " 97%|█████████▋| 29/30 [00:00<00:00, 153.66it/s]\n",
            " 96%|█████████▋| 26/27 [00:00<00:00, 197.98it/s]\n",
            " 98%|█████████▊| 43/44 [00:00<00:00, 194.38it/s]\n"
          ],
          "name": "stderr"
        },
        {
          "output_type": "stream",
          "text": [
            "Saved Model\n"
          ],
          "name": "stdout"
        },
        {
          "output_type": "stream",
          "text": [
            " 98%|█████████▊| 43/44 [00:00<00:00, 195.14it/s]\n",
            " 95%|█████████▌| 21/22 [00:00<00:00, 206.97it/s]\n",
            " 92%|█████████▏| 11/12 [00:00<00:00, 130.28it/s]\n",
            " 92%|█████████▏| 11/12 [00:00<00:00, 206.53it/s]\n",
            " 92%|█████████▏| 11/12 [00:00<00:00, 159.77it/s]\n",
            " 95%|█████████▌| 20/21 [00:00<00:00, 174.58it/s]\n",
            " 95%|█████████▌| 20/21 [00:00<00:00, 185.36it/s]\n",
            " 96%|█████████▋| 27/28 [00:00<00:00, 176.38it/s]\n",
            " 95%|█████████▌| 19/20 [00:00<00:00, 165.89it/s]\n",
            " 97%|█████████▋| 31/32 [00:00<00:00, 152.02it/s]\n"
          ],
          "name": "stderr"
        },
        {
          "output_type": "stream",
          "text": [
            "Saved Model\n"
          ],
          "name": "stdout"
        },
        {
          "output_type": "stream",
          "text": [
            " 94%|█████████▍| 16/17 [00:00<00:00, 160.96it/s]\n",
            " 98%|█████████▊| 49/50 [00:00<00:00, 170.65it/s]\n",
            " 91%|█████████ | 10/11 [00:00<00:00, 132.71it/s]\n",
            " 97%|█████████▋| 29/30 [00:00<00:00, 231.70it/s]\n",
            " 94%|█████████▍| 16/17 [00:00<00:00, 241.40it/s]\n",
            " 97%|█████████▋| 29/30 [00:00<00:00, 173.65it/s]\n",
            " 97%|█████████▋| 29/30 [00:00<00:00, 163.45it/s]\n",
            " 98%|█████████▊| 45/46 [00:00<00:00, 213.99it/s]\n",
            " 98%|█████████▊| 40/41 [00:00<00:00, 160.35it/s]\n",
            " 96%|█████████▌| 22/23 [00:00<00:00, 180.52it/s]\n"
          ],
          "name": "stderr"
        },
        {
          "output_type": "stream",
          "text": [
            "Saved Model\n"
          ],
          "name": "stdout"
        },
        {
          "output_type": "stream",
          "text": [
            " 96%|█████████▋| 26/27 [00:00<00:00, 162.92it/s]\n",
            " 96%|█████████▌| 24/25 [00:00<00:00, 142.55it/s]\n",
            " 97%|█████████▋| 36/37 [00:00<00:00, 177.87it/s]\n",
            "100%|██████████| 14/14 [00:00<00:00, 162.05it/s]\n",
            " 98%|█████████▊| 54/55 [00:00<00:00, 177.42it/s]\n",
            " 98%|█████████▊| 62/63 [00:00<00:00, 176.88it/s]\n",
            " 92%|█████████▏| 12/13 [00:00<00:00, 182.85it/s]\n",
            " 98%|█████████▊| 40/41 [00:00<00:00, 174.92it/s]\n",
            " 96%|█████████▌| 22/23 [00:00<00:00, 163.02it/s]\n",
            " 95%|█████████▍| 18/19 [00:00<00:00, 240.06it/s]\n"
          ],
          "name": "stderr"
        },
        {
          "output_type": "stream",
          "text": [
            "Saved Model\n"
          ],
          "name": "stdout"
        },
        {
          "output_type": "stream",
          "text": [
            " 96%|█████████▌| 22/23 [00:00<00:00, 168.86it/s]\n",
            " 92%|█████████▏| 12/13 [00:00<00:00, 196.27it/s]\n",
            " 96%|█████████▌| 24/25 [00:00<00:00, 176.56it/s]\n",
            " 97%|█████████▋| 32/33 [00:00<00:00, 160.82it/s]\n",
            " 94%|█████████▍| 16/17 [00:00<00:00, 134.03it/s]\n",
            " 97%|█████████▋| 37/38 [00:00<00:00, 161.15it/s]\n",
            " 92%|█████████▏| 11/12 [00:00<00:00, 122.29it/s]\n",
            " 95%|█████████▍| 18/19 [00:00<00:00, 189.05it/s]\n",
            " 95%|█████████▌| 20/21 [00:00<00:00, 153.98it/s]\n",
            " 98%|█████████▊| 40/41 [00:00<00:00, 167.02it/s]\n"
          ],
          "name": "stderr"
        },
        {
          "output_type": "stream",
          "text": [
            "Saved Model\n"
          ],
          "name": "stdout"
        },
        {
          "output_type": "stream",
          "text": [
            " 94%|█████████▍| 15/16 [00:00<00:00, 186.88it/s]\n",
            " 91%|█████████ | 10/11 [00:00<00:00, 182.95it/s]\n",
            " 96%|█████████▌| 23/24 [00:00<00:00, 213.89it/s]\n",
            " 96%|█████████▋| 26/27 [00:00<00:00, 187.27it/s]\n",
            " 93%|█████████▎| 13/14 [00:00<00:00, 140.79it/s]\n",
            " 92%|█████████▏| 11/12 [00:00<00:00, 175.81it/s]\n",
            " 92%|█████████▏| 11/12 [00:00<00:00, 212.68it/s]\n",
            " 95%|█████████▌| 19/20 [00:00<00:00, 190.20it/s]\n",
            " 91%|█████████ | 10/11 [00:00<00:00, 181.00it/s]\n",
            " 97%|█████████▋| 31/32 [00:00<00:00, 203.10it/s]\n"
          ],
          "name": "stderr"
        },
        {
          "output_type": "stream",
          "text": [
            "Saved Model\n"
          ],
          "name": "stdout"
        },
        {
          "output_type": "stream",
          "text": [
            " 95%|█████████▍| 18/19 [00:00<00:00, 166.09it/s]\n",
            " 91%|█████████ | 10/11 [00:00<00:00, 143.12it/s]\n",
            " 95%|█████████▍| 18/19 [00:00<00:00, 187.69it/s]\n",
            " 94%|█████████▍| 16/17 [00:00<00:00, 194.25it/s]\n",
            " 97%|█████████▋| 35/36 [00:00<00:00, 220.97it/s]\n",
            " 97%|█████████▋| 33/34 [00:00<00:00, 186.05it/s]\n",
            " 91%|█████████ | 10/11 [00:00<00:00, 193.38it/s]\n",
            "100%|██████████| 28/28 [00:00<00:00, 178.20it/s]\n",
            " 91%|█████████ | 10/11 [00:00<00:00, 252.61it/s]\n",
            " 91%|█████████ | 10/11 [00:00<00:00, 226.28it/s]\n"
          ],
          "name": "stderr"
        },
        {
          "output_type": "stream",
          "text": [
            "Saved Model\n"
          ],
          "name": "stdout"
        },
        {
          "output_type": "stream",
          "text": [
            " 95%|█████████▌| 19/20 [00:00<00:00, 148.22it/s]\n",
            " 92%|█████████▏| 12/13 [00:00<00:00, 127.46it/s]\n",
            " 94%|█████████▍| 16/17 [00:00<00:00, 242.63it/s]\n",
            " 97%|█████████▋| 29/30 [00:00<00:00, 218.12it/s]\n",
            " 96%|█████████▌| 25/26 [00:00<00:00, 209.22it/s]\n",
            "100%|██████████| 14/14 [00:00<00:00, 158.68it/s]\n",
            " 95%|█████████▌| 19/20 [00:00<00:00, 141.14it/s]\n",
            " 92%|█████████▏| 12/13 [00:00<00:00, 193.27it/s]\n",
            " 92%|█████████▏| 12/13 [00:00<00:00, 159.99it/s]\n",
            " 97%|█████████▋| 35/36 [00:00<00:00, 184.20it/s]\n"
          ],
          "name": "stderr"
        },
        {
          "output_type": "stream",
          "text": [
            "Saved Model\n"
          ],
          "name": "stdout"
        },
        {
          "output_type": "stream",
          "text": [
            " 91%|█████████ | 10/11 [00:00<00:00, 227.96it/s]\n",
            " 96%|█████████▌| 22/23 [00:00<00:00, 188.20it/s]\n",
            " 92%|█████████▏| 11/12 [00:00<00:00, 170.25it/s]\n",
            " 95%|█████████▍| 18/19 [00:00<00:00, 204.28it/s]\n",
            " 98%|█████████▊| 44/45 [00:00<00:00, 171.78it/s]\n",
            " 96%|█████████▌| 23/24 [00:00<00:00, 173.25it/s]\n",
            " 97%|█████████▋| 31/32 [00:00<00:00, 160.30it/s]\n",
            "100%|██████████| 51/51 [00:00<00:00, 166.38it/s]\n",
            " 97%|█████████▋| 34/35 [00:00<00:00, 154.30it/s]\n",
            " 96%|█████████▌| 23/24 [00:00<00:00, 193.26it/s]\n"
          ],
          "name": "stderr"
        },
        {
          "output_type": "stream",
          "text": [
            "Saved Model\n"
          ],
          "name": "stdout"
        },
        {
          "output_type": "stream",
          "text": [
            " 96%|█████████▌| 25/26 [00:00<00:00, 166.73it/s]\n",
            " 98%|█████████▊| 47/48 [00:00<00:00, 164.62it/s]\n",
            "100%|██████████| 28/28 [00:00<00:00, 171.09it/s]\n",
            " 97%|█████████▋| 35/36 [00:00<00:00, 213.90it/s]\n",
            " 96%|█████████▌| 25/26 [00:00<00:00, 162.45it/s]\n",
            " 91%|█████████ | 10/11 [00:00<00:00, 233.50it/s]\n",
            " 97%|█████████▋| 29/30 [00:00<00:00, 153.72it/s]\n",
            " 92%|█████████▏| 11/12 [00:00<00:00, 138.96it/s]\n",
            " 97%|█████████▋| 32/33 [00:00<00:00, 215.91it/s]\n",
            " 97%|█████████▋| 31/32 [00:00<00:00, 222.40it/s]\n"
          ],
          "name": "stderr"
        },
        {
          "output_type": "stream",
          "text": [
            "Saved Model\n"
          ],
          "name": "stdout"
        },
        {
          "output_type": "stream",
          "text": [
            " 98%|█████████▊| 44/45 [00:00<00:00, 171.52it/s]\n",
            " 95%|█████████▌| 19/20 [00:00<00:00, 153.05it/s]\n",
            " 95%|█████████▍| 18/19 [00:00<00:00, 236.94it/s]\n",
            " 96%|█████████▋| 27/28 [00:00<00:00, 175.78it/s]\n",
            " 91%|█████████ | 10/11 [00:00<00:00, 145.48it/s]\n",
            " 98%|█████████▊| 46/47 [00:00<00:00, 168.52it/s]\n",
            " 91%|█████████ | 10/11 [00:00<00:00, 156.35it/s]\n",
            "100%|██████████| 28/28 [00:00<00:00, 177.19it/s]\n",
            " 93%|█████████▎| 13/14 [00:00<00:00, 190.13it/s]\n",
            "100%|██████████| 14/14 [00:00<00:00, 253.18it/s]\n"
          ],
          "name": "stderr"
        },
        {
          "output_type": "stream",
          "text": [
            "Saved Model\n"
          ],
          "name": "stdout"
        },
        {
          "output_type": "stream",
          "text": [
            " 94%|█████████▍| 17/18 [00:00<00:00, 176.14it/s]\n",
            " 91%|█████████ | 10/11 [00:00<00:00, 165.21it/s]\n",
            " 95%|█████████▌| 19/20 [00:00<00:00, 200.51it/s]\n",
            " 97%|█████████▋| 34/35 [00:00<00:00, 210.70it/s]\n",
            " 92%|█████████▏| 11/12 [00:00<00:00, 190.24it/s]\n",
            " 97%|█████████▋| 33/34 [00:00<00:00, 192.69it/s]\n",
            "100%|██████████| 28/28 [00:00<00:00, 220.11it/s]\n",
            " 94%|█████████▍| 15/16 [00:00<00:00, 186.36it/s]\n",
            " 97%|█████████▋| 29/30 [00:00<00:00, 199.98it/s]\n",
            " 95%|█████████▌| 20/21 [00:00<00:00, 228.40it/s]\n"
          ],
          "name": "stderr"
        },
        {
          "output_type": "stream",
          "text": [
            "Saved Model\n"
          ],
          "name": "stdout"
        },
        {
          "output_type": "stream",
          "text": [
            " 92%|█████████▏| 11/12 [00:00<00:00, 154.03it/s]\n",
            " 95%|█████████▍| 18/19 [00:00<00:00, 155.95it/s]\n",
            " 93%|█████████▎| 13/14 [00:00<00:00, 198.46it/s]\n",
            " 97%|█████████▋| 35/36 [00:00<00:00, 169.65it/s]\n",
            " 96%|█████████▌| 22/23 [00:00<00:00, 171.95it/s]\n",
            " 94%|█████████▍| 16/17 [00:00<00:00, 172.18it/s]\n",
            " 96%|█████████▌| 25/26 [00:00<00:00, 228.20it/s]\n",
            "100%|██████████| 14/14 [00:00<00:00, 150.21it/s]\n",
            " 97%|█████████▋| 33/34 [00:00<00:00, 210.42it/s]\n",
            " 96%|█████████▌| 24/25 [00:00<00:00, 179.10it/s]\n"
          ],
          "name": "stderr"
        },
        {
          "output_type": "stream",
          "text": [
            "Saved Model\n"
          ],
          "name": "stdout"
        },
        {
          "output_type": "stream",
          "text": [
            "100%|██████████| 28/28 [00:00<00:00, 209.90it/s]\n",
            " 98%|█████████▊| 48/49 [00:00<00:00, 168.78it/s]\n",
            " 97%|█████████▋| 29/30 [00:00<00:00, 199.40it/s]\n",
            " 96%|█████████▌| 24/25 [00:00<00:00, 172.76it/s]\n",
            " 97%|█████████▋| 36/37 [00:00<00:00, 151.88it/s]\n",
            " 97%|█████████▋| 31/32 [00:00<00:00, 185.09it/s]\n",
            " 97%|█████████▋| 29/30 [00:00<00:00, 176.62it/s]\n",
            " 91%|█████████ | 10/11 [00:00<00:00, 177.94it/s]\n",
            " 96%|█████████▋| 27/28 [00:00<00:00, 194.75it/s]\n",
            " 95%|█████████▍| 18/19 [00:00<00:00, 165.67it/s]\n"
          ],
          "name": "stderr"
        },
        {
          "output_type": "stream",
          "text": [
            "Saved Model\n"
          ],
          "name": "stdout"
        },
        {
          "output_type": "stream",
          "text": [
            " 98%|█████████▊| 48/49 [00:00<00:00, 195.31it/s]\n",
            " 96%|█████████▋| 26/27 [00:00<00:00, 151.23it/s]\n",
            " 97%|█████████▋| 31/32 [00:00<00:00, 244.07it/s]\n",
            " 91%|█████████ | 10/11 [00:00<00:00, 216.92it/s]\n",
            " 91%|█████████ | 10/11 [00:00<00:00, 175.43it/s]\n",
            " 97%|█████████▋| 32/33 [00:00<00:00, 161.44it/s]\n",
            " 96%|█████████▋| 26/27 [00:00<00:00, 208.46it/s]\n",
            " 95%|█████████▌| 20/21 [00:00<00:00, 200.29it/s]\n",
            " 91%|█████████ | 10/11 [00:00<00:00, 167.59it/s]\n",
            " 91%|█████████ | 10/11 [00:00<00:00, 139.79it/s]\n"
          ],
          "name": "stderr"
        },
        {
          "output_type": "stream",
          "text": [
            "Saved Model\n"
          ],
          "name": "stdout"
        },
        {
          "output_type": "stream",
          "text": [
            "100%|██████████| 14/14 [00:00<00:00, 223.33it/s]\n",
            " 98%|█████████▊| 39/40 [00:00<00:00, 204.15it/s]\n",
            " 96%|█████████▋| 26/27 [00:00<00:00, 219.90it/s]\n",
            " 95%|█████████▌| 21/22 [00:00<00:00, 185.56it/s]\n",
            " 92%|█████████▏| 11/12 [00:00<00:00, 119.25it/s]\n",
            " 97%|█████████▋| 33/34 [00:00<00:00, 155.89it/s]\n",
            " 95%|█████████▍| 18/19 [00:00<00:00, 131.54it/s]\n",
            " 95%|█████████▌| 20/21 [00:00<00:00, 194.67it/s]\n",
            " 95%|█████████▌| 20/21 [00:00<00:00, 246.48it/s]\n",
            " 94%|█████████▍| 15/16 [00:00<00:00, 131.77it/s]\n"
          ],
          "name": "stderr"
        },
        {
          "output_type": "stream",
          "text": [
            "Saved Model\n"
          ],
          "name": "stdout"
        },
        {
          "output_type": "stream",
          "text": [
            " 97%|█████████▋| 37/38 [00:00<00:00, 176.60it/s]\n",
            " 95%|█████████▌| 19/20 [00:00<00:00, 199.47it/s]\n",
            " 91%|█████████ | 10/11 [00:00<00:00, 167.17it/s]\n",
            " 98%|█████████▊| 39/40 [00:00<00:00, 191.54it/s]\n",
            " 97%|█████████▋| 35/36 [00:00<00:00, 155.97it/s]\n",
            " 96%|█████████▌| 25/26 [00:00<00:00, 146.57it/s]\n",
            " 96%|█████████▋| 26/27 [00:00<00:00, 162.86it/s]\n",
            " 97%|█████████▋| 31/32 [00:00<00:00, 178.67it/s]\n",
            " 96%|█████████▌| 24/25 [00:00<00:00, 183.56it/s]\n",
            " 95%|█████████▌| 21/22 [00:00<00:00, 145.35it/s]\n"
          ],
          "name": "stderr"
        },
        {
          "output_type": "stream",
          "text": [
            "Saved Model\n"
          ],
          "name": "stdout"
        },
        {
          "output_type": "stream",
          "text": [
            " 96%|█████████▌| 24/25 [00:00<00:00, 218.40it/s]\n",
            " 96%|█████████▋| 26/27 [00:00<00:00, 220.97it/s]\n",
            "100%|██████████| 28/28 [00:00<00:00, 156.48it/s]\n",
            " 94%|█████████▍| 17/18 [00:00<00:00, 134.78it/s]\n",
            " 94%|█████████▍| 16/17 [00:00<00:00, 142.21it/s]\n",
            " 95%|█████████▌| 19/20 [00:00<00:00, 200.64it/s]\n",
            " 97%|█████████▋| 36/37 [00:00<00:00, 198.19it/s]\n",
            " 91%|█████████ | 10/11 [00:00<00:00, 210.00it/s]\n",
            " 95%|█████████▌| 19/20 [00:00<00:00, 249.36it/s]\n",
            " 91%|█████████ | 10/11 [00:00<00:00, 179.14it/s]\n"
          ],
          "name": "stderr"
        },
        {
          "output_type": "stream",
          "text": [
            "Saved Model\n"
          ],
          "name": "stdout"
        },
        {
          "output_type": "stream",
          "text": [
            " 97%|█████████▋| 29/30 [00:00<00:00, 188.00it/s]\n",
            " 91%|█████████ | 10/11 [00:00<00:00, 151.93it/s]\n",
            " 95%|█████████▍| 18/19 [00:00<00:00, 223.90it/s]\n",
            " 91%|█████████ | 10/11 [00:00<00:00, 210.66it/s]\n",
            " 91%|█████████ | 10/11 [00:00<00:00, 158.87it/s]\n",
            " 92%|█████████▏| 12/13 [00:00<00:00, 193.99it/s]\n",
            " 94%|█████████▍| 15/16 [00:00<00:00, 242.10it/s]\n",
            " 96%|█████████▋| 26/27 [00:00<00:00, 202.68it/s]\n",
            " 96%|█████████▌| 23/24 [00:00<00:00, 188.81it/s]\n",
            " 95%|█████████▌| 19/20 [00:00<00:00, 233.94it/s]\n"
          ],
          "name": "stderr"
        },
        {
          "output_type": "stream",
          "text": [
            "Saved Model\n"
          ],
          "name": "stdout"
        },
        {
          "output_type": "stream",
          "text": [
            " 97%|█████████▋| 33/34 [00:00<00:00, 209.27it/s]\n",
            " 95%|█████████▌| 21/22 [00:00<00:00, 156.46it/s]\n",
            " 97%|█████████▋| 33/34 [00:00<00:00, 182.09it/s]\n",
            " 92%|█████████▏| 11/12 [00:00<00:00, 183.69it/s]\n",
            " 97%|█████████▋| 35/36 [00:00<00:00, 223.13it/s]\n",
            " 93%|█████████▎| 13/14 [00:00<00:00, 201.59it/s]\n",
            " 94%|█████████▍| 17/18 [00:00<00:00, 172.28it/s]\n",
            " 91%|█████████ | 10/11 [00:00<00:00, 181.49it/s]\n",
            " 98%|█████████▊| 42/43 [00:00<00:00, 183.44it/s]\n",
            " 93%|█████████▎| 13/14 [00:00<00:00, 191.34it/s]\n"
          ],
          "name": "stderr"
        },
        {
          "output_type": "stream",
          "text": [
            "Saved Model\n"
          ],
          "name": "stdout"
        },
        {
          "output_type": "stream",
          "text": [
            " 96%|█████████▌| 22/23 [00:00<00:00, 157.42it/s]\n",
            " 97%|█████████▋| 36/37 [00:00<00:00, 199.13it/s]\n",
            " 92%|█████████▏| 11/12 [00:00<00:00, 208.53it/s]\n",
            "100%|██████████| 28/28 [00:00<00:00, 167.51it/s]\n",
            " 91%|█████████ | 10/11 [00:00<00:00, 156.66it/s]\n",
            " 97%|█████████▋| 32/33 [00:00<00:00, 224.95it/s]\n",
            " 97%|█████████▋| 29/30 [00:00<00:00, 233.90it/s]\n",
            " 97%|█████████▋| 29/30 [00:00<00:00, 199.68it/s]\n",
            " 95%|█████████▌| 21/22 [00:00<00:00, 240.67it/s]\n",
            " 97%|█████████▋| 29/30 [00:00<00:00, 193.06it/s]\n"
          ],
          "name": "stderr"
        },
        {
          "output_type": "stream",
          "text": [
            "Saved Model\n"
          ],
          "name": "stdout"
        },
        {
          "output_type": "stream",
          "text": [
            " 96%|█████████▋| 27/28 [00:00<00:00, 146.40it/s]\n",
            " 95%|█████████▌| 21/22 [00:00<00:00, 213.62it/s]\n",
            " 95%|█████████▌| 19/20 [00:00<00:00, 236.13it/s]\n",
            " 96%|█████████▌| 24/25 [00:00<00:00, 206.44it/s]\n",
            " 97%|█████████▋| 33/34 [00:00<00:00, 161.87it/s]\n",
            "100%|██████████| 28/28 [00:00<00:00, 194.00it/s]\n",
            " 96%|█████████▌| 23/24 [00:00<00:00, 179.53it/s]\n",
            " 96%|█████████▌| 24/25 [00:00<00:00, 212.56it/s]\n",
            " 96%|█████████▌| 24/25 [00:00<00:00, 194.61it/s]\n",
            " 97%|█████████▋| 30/31 [00:00<00:00, 178.71it/s]\n"
          ],
          "name": "stderr"
        },
        {
          "output_type": "stream",
          "text": [
            "Saved Model\n"
          ],
          "name": "stdout"
        },
        {
          "output_type": "stream",
          "text": [
            " 91%|█████████ | 10/11 [00:00<00:00, 255.29it/s]\n",
            " 96%|█████████▌| 25/26 [00:00<00:00, 180.10it/s]\n",
            "100%|██████████| 14/14 [00:00<00:00, 124.41it/s]\n",
            " 97%|█████████▋| 33/34 [00:00<00:00, 218.11it/s]\n",
            " 93%|█████████▎| 13/14 [00:00<00:00, 153.05it/s]\n",
            "100%|██████████| 14/14 [00:00<00:00, 266.06it/s]\n",
            " 97%|█████████▋| 34/35 [00:00<00:00, 192.32it/s]\n",
            " 93%|█████████▎| 13/14 [00:00<00:00, 148.49it/s]\n",
            "100%|██████████| 14/14 [00:00<00:00, 179.51it/s]\n",
            " 95%|█████████▌| 20/21 [00:00<00:00, 188.03it/s]\n"
          ],
          "name": "stderr"
        },
        {
          "output_type": "stream",
          "text": [
            "Saved Model\n"
          ],
          "name": "stdout"
        },
        {
          "output_type": "stream",
          "text": [
            " 96%|█████████▋| 26/27 [00:00<00:00, 181.35it/s]\n",
            " 96%|█████████▌| 22/23 [00:00<00:00, 223.41it/s]\n",
            " 97%|█████████▋| 35/36 [00:00<00:00, 167.54it/s]\n",
            " 97%|█████████▋| 33/34 [00:00<00:00, 191.95it/s]\n",
            "100%|██████████| 14/14 [00:00<00:00, 133.48it/s]\n",
            " 91%|█████████ | 10/11 [00:00<00:00, 197.68it/s]\n",
            " 91%|█████████ | 10/11 [00:00<00:00, 193.17it/s]\n",
            " 95%|█████████▌| 19/20 [00:00<00:00, 155.94it/s]\n",
            " 97%|█████████▋| 35/36 [00:00<00:00, 165.99it/s]\n",
            " 96%|█████████▋| 26/27 [00:00<00:00, 175.78it/s]\n"
          ],
          "name": "stderr"
        },
        {
          "output_type": "stream",
          "text": [
            "Saved Model\n"
          ],
          "name": "stdout"
        },
        {
          "output_type": "stream",
          "text": [
            " 96%|█████████▌| 23/24 [00:00<00:00, 134.28it/s]\n",
            " 93%|█████████▎| 13/14 [00:00<00:00, 141.69it/s]\n",
            " 92%|█████████▏| 12/13 [00:00<00:00, 142.66it/s]\n",
            " 91%|█████████ | 10/11 [00:00<00:00, 179.90it/s]\n",
            " 91%|█████████ | 10/11 [00:00<00:00, 139.00it/s]\n",
            " 94%|█████████▍| 16/17 [00:00<00:00, 284.20it/s]\n",
            " 91%|█████████ | 10/11 [00:00<00:00, 202.11it/s]\n",
            " 95%|█████████▍| 18/19 [00:00<00:00, 216.89it/s]\n",
            " 91%|█████████ | 10/11 [00:00<00:00, 160.79it/s]\n",
            " 91%|█████████ | 10/11 [00:00<00:00, 229.36it/s]\n"
          ],
          "name": "stderr"
        },
        {
          "output_type": "stream",
          "text": [
            "Saved Model\n"
          ],
          "name": "stdout"
        },
        {
          "output_type": "stream",
          "text": [
            " 95%|█████████▌| 20/21 [00:00<00:00, 209.47it/s]\n",
            " 94%|█████████▍| 15/16 [00:00<00:00, 109.07it/s]\n",
            " 91%|█████████ | 10/11 [00:00<00:00, 183.96it/s]\n",
            "100%|██████████| 14/14 [00:00<00:00, 212.61it/s]\n",
            " 96%|█████████▋| 26/27 [00:00<00:00, 192.60it/s]\n",
            " 91%|█████████ | 10/11 [00:00<00:00, 147.95it/s]\n",
            "100%|██████████| 28/28 [00:00<00:00, 166.51it/s]\n",
            " 96%|█████████▋| 27/28 [00:00<00:00, 175.49it/s]\n",
            " 97%|█████████▋| 31/32 [00:00<00:00, 150.28it/s]\n",
            " 96%|█████████▋| 27/28 [00:00<00:00, 178.51it/s]\n"
          ],
          "name": "stderr"
        },
        {
          "output_type": "stream",
          "text": [
            "Saved Model\n"
          ],
          "name": "stdout"
        },
        {
          "output_type": "stream",
          "text": [
            " 97%|█████████▋| 30/31 [00:00<00:00, 183.59it/s]\n",
            " 98%|█████████▊| 47/48 [00:00<00:00, 211.95it/s]\n",
            " 92%|█████████▏| 12/13 [00:00<00:00, 221.88it/s]\n",
            " 91%|█████████ | 10/11 [00:00<00:00, 171.03it/s]\n",
            " 91%|█████████ | 10/11 [00:00<00:00, 164.45it/s]\n",
            " 96%|█████████▌| 25/26 [00:00<00:00, 151.41it/s]\n",
            " 95%|█████████▍| 18/19 [00:00<00:00, 200.59it/s]\n",
            " 95%|█████████▍| 18/19 [00:00<00:00, 207.01it/s]\n",
            " 97%|█████████▋| 29/30 [00:00<00:00, 198.44it/s]\n",
            " 92%|█████████▏| 12/13 [00:00<00:00, 163.11it/s]\n"
          ],
          "name": "stderr"
        },
        {
          "output_type": "stream",
          "text": [
            "Saved Model\n"
          ],
          "name": "stdout"
        },
        {
          "output_type": "stream",
          "text": [
            " 93%|█████████▎| 13/14 [00:00<00:00, 168.76it/s]\n",
            " 97%|█████████▋| 32/33 [00:00<00:00, 159.55it/s]\n",
            " 95%|█████████▌| 20/21 [00:00<00:00, 154.18it/s]\n",
            " 97%|█████████▋| 30/31 [00:00<00:00, 179.03it/s]\n",
            " 96%|█████████▌| 23/24 [00:00<00:00, 179.40it/s]\n",
            " 96%|█████████▌| 24/25 [00:00<00:00, 207.09it/s]\n",
            " 97%|█████████▋| 29/30 [00:00<00:00, 206.54it/s]\n",
            " 95%|█████████▍| 18/19 [00:00<00:00, 186.91it/s]\n",
            " 94%|█████████▍| 15/16 [00:00<00:00, 181.14it/s]\n",
            " 94%|█████████▍| 17/18 [00:00<00:00, 188.19it/s]\n"
          ],
          "name": "stderr"
        },
        {
          "output_type": "stream",
          "text": [
            "Saved Model\n"
          ],
          "name": "stdout"
        },
        {
          "output_type": "stream",
          "text": [
            " 96%|█████████▌| 25/26 [00:00<00:00, 225.39it/s]\n",
            " 96%|█████████▌| 25/26 [00:00<00:00, 178.16it/s]\n",
            " 96%|█████████▌| 24/25 [00:00<00:00, 184.23it/s]\n",
            " 96%|█████████▌| 23/24 [00:00<00:00, 202.32it/s]\n",
            " 91%|█████████ | 10/11 [00:00<00:00, 146.62it/s]\n",
            " 92%|█████████▏| 11/12 [00:00<00:00, 179.16it/s]\n",
            " 96%|█████████▋| 26/27 [00:00<00:00, 202.38it/s]\n",
            " 91%|█████████ | 10/11 [00:00<00:00, 249.03it/s]\n",
            " 91%|█████████ | 10/11 [00:00<00:00, 185.19it/s]\n",
            " 95%|█████████▌| 19/20 [00:00<00:00, 234.79it/s]\n"
          ],
          "name": "stderr"
        },
        {
          "output_type": "stream",
          "text": [
            "Saved Model\n"
          ],
          "name": "stdout"
        },
        {
          "output_type": "stream",
          "text": [
            " 95%|█████████▌| 19/20 [00:00<00:00, 265.17it/s]\n",
            "100%|██████████| 14/14 [00:00<00:00, 208.93it/s]\n",
            " 96%|█████████▋| 26/27 [00:00<00:00, 206.17it/s]\n",
            " 96%|█████████▌| 22/23 [00:00<00:00, 170.78it/s]\n",
            " 91%|█████████ | 10/11 [00:00<00:00, 144.72it/s]\n",
            " 96%|█████████▌| 23/24 [00:00<00:00, 203.34it/s]\n",
            "100%|██████████| 28/28 [00:00<00:00, 200.37it/s]\n",
            " 95%|█████████▌| 21/22 [00:00<00:00, 245.78it/s]\n",
            " 98%|█████████▊| 39/40 [00:00<00:00, 198.11it/s]\n",
            " 96%|█████████▌| 24/25 [00:00<00:00, 207.07it/s]\n"
          ],
          "name": "stderr"
        },
        {
          "output_type": "stream",
          "text": [
            "Saved Model\n"
          ],
          "name": "stdout"
        },
        {
          "output_type": "stream",
          "text": [
            " 91%|█████████ | 10/11 [00:00<00:00, 262.27it/s]\n",
            " 96%|█████████▌| 22/23 [00:00<00:00, 235.88it/s]\n",
            " 97%|█████████▋| 31/32 [00:00<00:00, 253.40it/s]\n",
            " 97%|█████████▋| 30/31 [00:00<00:00, 180.23it/s]\n",
            " 96%|█████████▋| 26/27 [00:00<00:00, 182.64it/s]\n",
            " 94%|█████████▍| 16/17 [00:00<00:00, 232.58it/s]\n",
            " 93%|█████████▎| 13/14 [00:00<00:00, 235.93it/s]\n",
            " 92%|█████████▏| 12/13 [00:00<00:00, 162.65it/s]\n",
            "100%|██████████| 14/14 [00:00<00:00, 200.47it/s]\n",
            " 97%|█████████▋| 32/33 [00:00<00:00, 171.90it/s]\n"
          ],
          "name": "stderr"
        },
        {
          "output_type": "stream",
          "text": [
            "Saved Model\n"
          ],
          "name": "stdout"
        },
        {
          "output_type": "stream",
          "text": [
            " 97%|█████████▋| 32/33 [00:00<00:00, 191.53it/s]\n",
            " 96%|█████████▌| 22/23 [00:00<00:00, 277.51it/s]\n",
            " 95%|█████████▍| 18/19 [00:00<00:00, 197.42it/s]\n",
            " 91%|█████████ | 10/11 [00:00<00:00, 218.03it/s]\n",
            " 97%|█████████▋| 33/34 [00:00<00:00, 206.55it/s]\n",
            " 91%|█████████ | 10/11 [00:00<00:00, 159.10it/s]\n",
            " 91%|█████████ | 10/11 [00:00<00:00, 123.57it/s]\n",
            " 97%|█████████▋| 30/31 [00:00<00:00, 149.30it/s]\n",
            " 96%|█████████▋| 26/27 [00:00<00:00, 204.14it/s]\n",
            " 91%|█████████ | 10/11 [00:00<00:00, 241.96it/s]\n"
          ],
          "name": "stderr"
        },
        {
          "output_type": "stream",
          "text": [
            "Saved Model\n"
          ],
          "name": "stdout"
        },
        {
          "output_type": "stream",
          "text": [
            " 91%|█████████ | 10/11 [00:00<00:00, 211.63it/s]\n",
            " 91%|█████████ | 10/11 [00:00<00:00, 279.38it/s]\n",
            " 96%|█████████▌| 23/24 [00:00<00:00, 219.74it/s]\n",
            " 95%|█████████▌| 20/21 [00:00<00:00, 165.46it/s]\n",
            " 97%|█████████▋| 31/32 [00:00<00:00, 188.35it/s]\n",
            "100%|██████████| 14/14 [00:00<00:00, 243.63it/s]\n",
            " 96%|█████████▌| 22/23 [00:00<00:00, 195.96it/s]\n",
            " 91%|█████████ | 10/11 [00:00<00:00, 164.26it/s]\n",
            " 95%|█████████▌| 19/20 [00:00<00:00, 208.05it/s]\n",
            " 96%|█████████▋| 26/27 [00:00<00:00, 181.81it/s]\n"
          ],
          "name": "stderr"
        },
        {
          "output_type": "stream",
          "text": [
            "Saved Model\n"
          ],
          "name": "stdout"
        },
        {
          "output_type": "stream",
          "text": [
            " 91%|█████████ | 10/11 [00:00<00:00, 180.22it/s]\n",
            " 96%|█████████▌| 22/23 [00:00<00:00, 214.52it/s]\n",
            " 95%|█████████▌| 21/22 [00:00<00:00, 232.23it/s]\n",
            " 97%|█████████▋| 35/36 [00:00<00:00, 197.15it/s]\n",
            " 96%|█████████▌| 24/25 [00:00<00:00, 176.33it/s]\n",
            " 96%|█████████▌| 25/26 [00:00<00:00, 206.51it/s]\n",
            " 95%|█████████▍| 18/19 [00:00<00:00, 222.97it/s]\n",
            " 97%|█████████▋| 35/36 [00:00<00:00, 193.16it/s]\n",
            " 91%|█████████ | 10/11 [00:00<00:00, 267.22it/s]\n",
            "100%|██████████| 14/14 [00:00<00:00, 212.55it/s]\n"
          ],
          "name": "stderr"
        },
        {
          "output_type": "stream",
          "text": [
            "Saved Model\n"
          ],
          "name": "stdout"
        },
        {
          "output_type": "stream",
          "text": [
            " 94%|█████████▍| 15/16 [00:00<00:00, 191.51it/s]\n",
            " 94%|█████████▍| 16/17 [00:00<00:00, 236.67it/s]\n",
            "100%|██████████| 14/14 [00:00<00:00, 179.95it/s]\n",
            " 97%|█████████▋| 29/30 [00:00<00:00, 184.54it/s]\n",
            " 91%|█████████ | 10/11 [00:00<00:00, 184.51it/s]\n",
            " 97%|█████████▋| 29/30 [00:00<00:00, 192.54it/s]\n",
            "100%|██████████| 14/14 [00:00<00:00, 256.32it/s]\n",
            " 96%|█████████▌| 23/24 [00:00<00:00, 178.27it/s]\n",
            " 95%|█████████▌| 21/22 [00:00<00:00, 252.41it/s]\n",
            " 95%|█████████▌| 20/21 [00:00<00:00, 173.94it/s]\n"
          ],
          "name": "stderr"
        },
        {
          "output_type": "stream",
          "text": [
            "Saved Model\n"
          ],
          "name": "stdout"
        },
        {
          "output_type": "stream",
          "text": [
            " 92%|█████████▏| 12/13 [00:00<00:00, 215.15it/s]\n",
            " 91%|█████████ | 10/11 [00:00<00:00, 255.94it/s]\n",
            " 91%|█████████ | 10/11 [00:00<00:00, 201.11it/s]\n",
            " 96%|█████████▌| 23/24 [00:00<00:00, 180.39it/s]\n",
            " 92%|█████████▏| 11/12 [00:00<00:00, 210.04it/s]\n",
            " 91%|█████████ | 10/11 [00:00<00:00, 201.09it/s]\n",
            " 97%|█████████▋| 29/30 [00:00<00:00, 194.09it/s]\n",
            " 95%|█████████▌| 21/22 [00:00<00:00, 187.14it/s]\n",
            "100%|██████████| 14/14 [00:00<00:00, 266.67it/s]\n",
            " 97%|█████████▋| 37/38 [00:00<00:00, 201.20it/s]\n"
          ],
          "name": "stderr"
        },
        {
          "output_type": "stream",
          "text": [
            "Saved Model\n"
          ],
          "name": "stdout"
        },
        {
          "output_type": "stream",
          "text": [
            " 95%|█████████▌| 19/20 [00:00<00:00, 246.50it/s]\n",
            " 92%|█████████▏| 12/13 [00:00<00:00, 256.44it/s]\n",
            " 96%|█████████▌| 25/26 [00:00<00:00, 178.72it/s]\n",
            " 91%|█████████ | 10/11 [00:00<00:00, 191.06it/s]\n",
            " 93%|█████████▎| 13/14 [00:00<00:00, 160.80it/s]\n",
            " 96%|█████████▌| 22/23 [00:00<00:00, 170.45it/s]\n",
            " 95%|█████████▍| 18/19 [00:00<00:00, 246.44it/s]\n",
            " 97%|█████████▋| 35/36 [00:00<00:00, 206.46it/s]\n",
            " 92%|█████████▏| 12/13 [00:00<00:00, 192.68it/s]\n",
            " 92%|█████████▏| 11/12 [00:00<00:00, 259.51it/s]\n"
          ],
          "name": "stderr"
        },
        {
          "output_type": "stream",
          "text": [
            "Saved Model\n"
          ],
          "name": "stdout"
        },
        {
          "output_type": "stream",
          "text": [
            " 97%|█████████▋| 38/39 [00:00<00:00, 206.41it/s]\n",
            " 96%|█████████▌| 23/24 [00:00<00:00, 192.66it/s]\n",
            " 96%|█████████▋| 26/27 [00:00<00:00, 220.25it/s]\n",
            " 94%|█████████▍| 16/17 [00:00<00:00, 163.35it/s]\n",
            " 97%|█████████▋| 30/31 [00:00<00:00, 180.16it/s]\n",
            " 97%|█████████▋| 30/31 [00:00<00:00, 202.42it/s]\n",
            " 94%|█████████▍| 17/18 [00:00<00:00, 192.31it/s]\n",
            " 96%|█████████▌| 25/26 [00:00<00:00, 291.31it/s]\n",
            " 91%|█████████ | 10/11 [00:00<00:00, 207.34it/s]\n",
            " 93%|█████████▎| 13/14 [00:00<00:00, 297.15it/s]\n"
          ],
          "name": "stderr"
        },
        {
          "output_type": "stream",
          "text": [
            "Saved Model\n"
          ],
          "name": "stdout"
        },
        {
          "output_type": "stream",
          "text": [
            " 95%|█████████▍| 18/19 [00:00<00:00, 171.26it/s]\n",
            " 91%|█████████ | 10/11 [00:00<00:00, 259.64it/s]\n",
            " 96%|█████████▌| 22/23 [00:00<00:00, 243.77it/s]\n",
            " 95%|█████████▌| 19/20 [00:00<00:00, 167.60it/s]\n",
            " 92%|█████████▏| 12/13 [00:00<00:00, 224.70it/s]\n",
            " 91%|█████████ | 10/11 [00:00<00:00, 200.91it/s]\n",
            " 97%|█████████▋| 34/35 [00:00<00:00, 210.44it/s]\n",
            " 97%|█████████▋| 34/35 [00:00<00:00, 194.05it/s]\n",
            " 92%|█████████▏| 12/13 [00:00<00:00, 210.80it/s]\n",
            " 92%|█████████▏| 11/12 [00:00<00:00, 240.13it/s]\n"
          ],
          "name": "stderr"
        },
        {
          "output_type": "stream",
          "text": [
            "Saved Model\n"
          ],
          "name": "stdout"
        },
        {
          "output_type": "stream",
          "text": [
            " 92%|█████████▏| 12/13 [00:00<00:00, 163.10it/s]\n",
            " 96%|█████████▌| 22/23 [00:00<00:00, 242.91it/s]\n",
            " 95%|█████████▍| 18/19 [00:00<00:00, 207.66it/s]\n",
            " 94%|█████████▍| 17/18 [00:00<00:00, 211.51it/s]\n",
            " 95%|█████████▌| 21/22 [00:00<00:00, 211.14it/s]\n",
            " 92%|█████████▏| 12/13 [00:00<00:00, 175.15it/s]\n",
            " 95%|█████████▌| 20/21 [00:00<00:00, 213.42it/s]\n",
            " 94%|█████████▍| 17/18 [00:00<00:00, 191.33it/s]\n",
            " 95%|█████████▌| 21/22 [00:00<00:00, 198.26it/s]\n",
            " 96%|█████████▌| 24/25 [00:00<00:00, 183.29it/s]\n"
          ],
          "name": "stderr"
        },
        {
          "output_type": "stream",
          "text": [
            "Saved Model\n"
          ],
          "name": "stdout"
        },
        {
          "output_type": "stream",
          "text": [
            " 96%|█████████▋| 27/28 [00:00<00:00, 169.16it/s]\n",
            " 94%|█████████▍| 17/18 [00:00<00:00, 232.72it/s]\n",
            " 97%|█████████▋| 34/35 [00:00<00:00, 206.02it/s]\n",
            " 94%|█████████▍| 16/17 [00:00<00:00, 181.87it/s]\n",
            " 97%|█████████▋| 29/30 [00:00<00:00, 191.16it/s]\n",
            "100%|██████████| 28/28 [00:00<00:00, 218.55it/s]\n",
            " 97%|█████████▋| 32/33 [00:00<00:00, 196.23it/s]\n",
            " 93%|█████████▎| 13/14 [00:00<00:00, 226.26it/s]\n",
            " 96%|█████████▌| 22/23 [00:00<00:00, 180.92it/s]\n",
            " 96%|█████████▋| 26/27 [00:00<00:00, 233.52it/s]\n"
          ],
          "name": "stderr"
        },
        {
          "output_type": "stream",
          "text": [
            "Saved Model\n"
          ],
          "name": "stdout"
        },
        {
          "output_type": "stream",
          "text": [
            " 95%|█████████▌| 19/20 [00:00<00:00, 232.30it/s]\n",
            " 98%|█████████▊| 45/46 [00:00<00:00, 230.72it/s]\n",
            " 91%|█████████ | 10/11 [00:00<00:00, 229.48it/s]\n",
            " 91%|█████████ | 10/11 [00:00<00:00, 274.67it/s]\n",
            " 97%|█████████▋| 29/30 [00:00<00:00, 154.69it/s]\n",
            " 97%|█████████▋| 32/33 [00:00<00:00, 228.87it/s]\n",
            " 95%|█████████▌| 19/20 [00:00<00:00, 228.32it/s]\n",
            " 97%|█████████▋| 31/32 [00:00<00:00, 207.89it/s]\n",
            " 96%|█████████▌| 22/23 [00:00<00:00, 188.96it/s]\n",
            " 91%|█████████ | 10/11 [00:00<00:00, 272.42it/s]\n"
          ],
          "name": "stderr"
        },
        {
          "output_type": "stream",
          "text": [
            "Saved Model\n"
          ],
          "name": "stdout"
        },
        {
          "output_type": "stream",
          "text": [
            " 96%|█████████▌| 22/23 [00:00<00:00, 223.94it/s]\n",
            "100%|██████████| 28/28 [00:00<00:00, 200.01it/s]\n",
            "100%|██████████| 28/28 [00:00<00:00, 190.96it/s]\n",
            " 91%|█████████ | 10/11 [00:00<00:00, 274.60it/s]\n",
            " 91%|█████████ | 10/11 [00:00<00:00, 182.12it/s]\n",
            " 95%|█████████▌| 20/21 [00:00<00:00, 191.16it/s]\n",
            " 93%|█████████▎| 13/14 [00:00<00:00, 234.16it/s]\n",
            " 91%|█████████ | 10/11 [00:00<00:00, 145.01it/s]\n",
            " 96%|█████████▌| 25/26 [00:00<00:00, 181.48it/s]\n",
            " 91%|█████████ | 10/11 [00:00<00:00, 225.41it/s]\n"
          ],
          "name": "stderr"
        },
        {
          "output_type": "stream",
          "text": [
            "Saved Model\n"
          ],
          "name": "stdout"
        },
        {
          "output_type": "stream",
          "text": [
            " 96%|█████████▌| 25/26 [00:00<00:00, 202.86it/s]\n",
            " 93%|█████████▎| 13/14 [00:00<00:00, 195.58it/s]\n",
            " 96%|█████████▌| 23/24 [00:00<00:00, 196.19it/s]\n",
            " 96%|█████████▌| 23/24 [00:00<00:00, 171.22it/s]\n",
            " 95%|█████████▌| 21/22 [00:00<00:00, 196.48it/s]\n",
            " 95%|█████████▌| 20/21 [00:00<00:00, 276.24it/s]\n",
            " 97%|█████████▋| 30/31 [00:00<00:00, 192.30it/s]\n",
            " 95%|█████████▌| 19/20 [00:00<00:00, 201.56it/s]\n",
            " 92%|█████████▏| 12/13 [00:00<00:00, 176.32it/s]\n",
            " 96%|█████████▌| 22/23 [00:00<00:00, 202.60it/s]\n"
          ],
          "name": "stderr"
        },
        {
          "output_type": "stream",
          "text": [
            "Saved Model\n"
          ],
          "name": "stdout"
        },
        {
          "output_type": "stream",
          "text": [
            " 94%|█████████▍| 16/17 [00:00<00:00, 166.63it/s]\n",
            " 96%|█████████▌| 23/24 [00:00<00:00, 153.48it/s]\n",
            " 96%|█████████▌| 22/23 [00:00<00:00, 192.17it/s]\n",
            " 97%|█████████▋| 31/32 [00:00<00:00, 179.56it/s]\n",
            " 96%|█████████▌| 23/24 [00:00<00:00, 207.51it/s]\n",
            " 95%|█████████▌| 19/20 [00:00<00:00, 199.38it/s]\n",
            " 92%|█████████▏| 12/13 [00:00<00:00, 202.85it/s]\n",
            " 97%|█████████▋| 36/37 [00:00<00:00, 204.13it/s]\n",
            " 91%|█████████ | 10/11 [00:00<00:00, 190.55it/s]\n",
            " 94%|█████████▍| 15/16 [00:00<00:00, 195.59it/s]\n"
          ],
          "name": "stderr"
        },
        {
          "output_type": "stream",
          "text": [
            "Saved Model\n"
          ],
          "name": "stdout"
        },
        {
          "output_type": "stream",
          "text": [
            " 91%|█████████ | 10/11 [00:00<00:00, 190.13it/s]\n",
            " 96%|█████████▌| 25/26 [00:00<00:00, 194.91it/s]\n",
            " 94%|█████████▍| 15/16 [00:00<00:00, 243.87it/s]\n",
            " 95%|█████████▌| 21/22 [00:00<00:00, 216.07it/s]\n",
            " 96%|█████████▌| 25/26 [00:00<00:00, 188.92it/s]\n",
            " 94%|█████████▍| 16/17 [00:00<00:00, 215.53it/s]\n",
            " 96%|█████████▌| 24/25 [00:00<00:00, 167.26it/s]\n",
            " 91%|█████████ | 10/11 [00:00<00:00, 229.45it/s]\n",
            " 97%|█████████▋| 31/32 [00:00<00:00, 241.51it/s]\n",
            " 95%|█████████▌| 20/21 [00:00<00:00, 209.82it/s]\n"
          ],
          "name": "stderr"
        },
        {
          "output_type": "stream",
          "text": [
            "Saved Model\n"
          ],
          "name": "stdout"
        },
        {
          "output_type": "stream",
          "text": [
            " 91%|█████████ | 10/11 [00:00<00:00, 247.67it/s]\n",
            " 92%|█████████▏| 12/13 [00:00<00:00, 187.25it/s]\n",
            " 96%|█████████▌| 22/23 [00:00<00:00, 194.33it/s]\n",
            " 97%|█████████▋| 34/35 [00:00<00:00, 218.09it/s]\n",
            " 95%|█████████▌| 21/22 [00:00<00:00, 208.94it/s]\n",
            " 91%|█████████ | 10/11 [00:00<00:00, 192.60it/s]\n",
            " 97%|█████████▋| 30/31 [00:00<00:00, 204.65it/s]\n",
            " 95%|█████████▌| 19/20 [00:00<00:00, 268.48it/s]\n",
            " 95%|█████████▌| 21/22 [00:00<00:00, 173.85it/s]\n",
            " 95%|█████████▌| 21/22 [00:00<00:00, 218.95it/s]\n"
          ],
          "name": "stderr"
        },
        {
          "output_type": "stream",
          "text": [
            "Saved Model\n"
          ],
          "name": "stdout"
        },
        {
          "output_type": "stream",
          "text": [
            " 95%|█████████▌| 19/20 [00:00<00:00, 247.55it/s]\n",
            " 92%|█████████▏| 12/13 [00:00<00:00, 280.26it/s]\n",
            "100%|██████████| 28/28 [00:00<00:00, 228.74it/s]\n",
            " 91%|█████████ | 10/11 [00:00<00:00, 246.10it/s]\n",
            " 94%|█████████▍| 16/17 [00:00<00:00, 171.08it/s]\n",
            " 97%|█████████▋| 30/31 [00:00<00:00, 205.03it/s]\n",
            " 92%|█████████▏| 11/12 [00:00<00:00, 148.14it/s]\n",
            " 91%|█████████ | 10/11 [00:00<00:00, 184.21it/s]\n",
            " 97%|█████████▋| 33/34 [00:00<00:00, 206.29it/s]\n",
            " 94%|█████████▍| 17/18 [00:00<00:00, 150.25it/s]\n"
          ],
          "name": "stderr"
        },
        {
          "output_type": "stream",
          "text": [
            "Saved Model\n"
          ],
          "name": "stdout"
        },
        {
          "output_type": "stream",
          "text": [
            " 95%|█████████▌| 19/20 [00:00<00:00, 161.63it/s]\n",
            " 93%|█████████▎| 13/14 [00:00<00:00, 264.62it/s]\n",
            " 97%|█████████▋| 36/37 [00:00<00:00, 213.38it/s]\n",
            " 98%|█████████▊| 41/42 [00:00<00:00, 192.54it/s]\n",
            " 94%|█████████▍| 16/17 [00:00<00:00, 218.36it/s]\n",
            " 94%|█████████▍| 16/17 [00:00<00:00, 138.55it/s]\n",
            " 91%|█████████ | 10/11 [00:00<00:00, 160.74it/s]\n",
            " 95%|█████████▌| 21/22 [00:00<00:00, 162.76it/s]\n",
            " 91%|█████████ | 10/11 [00:00<00:00, 226.92it/s]\n",
            " 95%|█████████▌| 20/21 [00:00<00:00, 207.34it/s]\n"
          ],
          "name": "stderr"
        },
        {
          "output_type": "stream",
          "text": [
            "Saved Model\n"
          ],
          "name": "stdout"
        },
        {
          "output_type": "stream",
          "text": [
            " 97%|█████████▋| 33/34 [00:00<00:00, 222.95it/s]\n",
            " 91%|█████████ | 10/11 [00:00<00:00, 240.28it/s]\n",
            "100%|██████████| 28/28 [00:00<00:00, 197.56it/s]\n",
            " 97%|█████████▋| 33/34 [00:00<00:00, 213.12it/s]\n",
            "100%|██████████| 14/14 [00:00<00:00, 159.17it/s]\n",
            "100%|██████████| 28/28 [00:00<00:00, 281.32it/s]\n",
            " 91%|█████████ | 10/11 [00:00<00:00, 183.43it/s]\n",
            "100%|██████████| 14/14 [00:00<00:00, 212.78it/s]\n",
            " 96%|█████████▌| 22/23 [00:00<00:00, 206.27it/s]\n",
            " 97%|█████████▋| 30/31 [00:00<00:00, 174.25it/s]\n"
          ],
          "name": "stderr"
        },
        {
          "output_type": "stream",
          "text": [
            "Saved Model\n"
          ],
          "name": "stdout"
        },
        {
          "output_type": "stream",
          "text": [
            " 91%|█████████ | 10/11 [00:00<00:00, 199.49it/s]\n",
            " 96%|█████████▋| 27/28 [00:00<00:00, 206.07it/s]\n",
            " 95%|█████████▌| 21/22 [00:00<00:00, 248.26it/s]\n",
            " 93%|█████████▎| 13/14 [00:00<00:00, 252.52it/s]\n",
            " 92%|█████████▏| 11/12 [00:00<00:00, 209.00it/s]\n",
            " 91%|█████████ | 10/11 [00:00<00:00, 133.23it/s]\n",
            " 96%|█████████▌| 22/23 [00:00<00:00, 204.94it/s]\n",
            " 97%|█████████▋| 29/30 [00:00<00:00, 205.98it/s]\n",
            " 91%|█████████ | 10/11 [00:00<00:00, 226.43it/s]\n",
            " 96%|█████████▌| 23/24 [00:00<00:00, 203.96it/s]\n"
          ],
          "name": "stderr"
        },
        {
          "output_type": "stream",
          "text": [
            "Saved Model\n"
          ],
          "name": "stdout"
        },
        {
          "output_type": "stream",
          "text": [
            " 96%|█████████▋| 27/28 [00:00<00:00, 215.72it/s]\n",
            " 91%|█████████ | 10/11 [00:00<00:00, 194.23it/s]\n",
            " 91%|█████████ | 10/11 [00:00<00:00, 141.16it/s]\n",
            " 97%|█████████▋| 30/31 [00:00<00:00, 214.54it/s]\n",
            "100%|██████████| 28/28 [00:00<00:00, 198.51it/s]\n",
            " 91%|█████████ | 10/11 [00:00<00:00, 302.48it/s]\n",
            " 97%|█████████▋| 31/32 [00:00<00:00, 265.16it/s]\n",
            " 97%|█████████▋| 29/30 [00:00<00:00, 215.26it/s]\n",
            " 97%|█████████▋| 29/30 [00:00<00:00, 218.27it/s]\n",
            " 95%|█████████▌| 21/22 [00:00<00:00, 293.95it/s]\n"
          ],
          "name": "stderr"
        },
        {
          "output_type": "stream",
          "text": [
            "Saved Model\n"
          ],
          "name": "stdout"
        },
        {
          "output_type": "stream",
          "text": [
            " 96%|█████████▌| 24/25 [00:00<00:00, 265.58it/s]\n",
            " 91%|█████████ | 10/11 [00:00<00:00, 158.70it/s]\n",
            " 97%|█████████▋| 36/37 [00:00<00:00, 185.61it/s]\n",
            "100%|██████████| 28/28 [00:00<00:00, 178.41it/s]\n",
            " 96%|█████████▌| 23/24 [00:00<00:00, 229.31it/s]\n",
            " 95%|█████████▌| 21/22 [00:00<00:00, 219.61it/s]\n",
            " 97%|█████████▋| 29/30 [00:00<00:00, 234.44it/s]\n",
            " 92%|█████████▏| 12/13 [00:00<00:00, 222.64it/s]\n",
            " 91%|█████████ | 10/11 [00:00<00:00, 133.39it/s]\n",
            " 95%|█████████▍| 18/19 [00:00<00:00, 209.36it/s]\n"
          ],
          "name": "stderr"
        },
        {
          "output_type": "stream",
          "text": [
            "Saved Model\n"
          ],
          "name": "stdout"
        },
        {
          "output_type": "stream",
          "text": [
            " 92%|█████████▏| 12/13 [00:00<00:00, 195.63it/s]\n",
            " 97%|█████████▋| 33/34 [00:00<00:00, 195.50it/s]\n",
            "100%|██████████| 14/14 [00:00<00:00, 192.30it/s]\n",
            " 94%|█████████▍| 15/16 [00:00<00:00, 206.49it/s]\n",
            " 97%|█████████▋| 31/32 [00:00<00:00, 188.85it/s]\n",
            " 91%|█████████ | 10/11 [00:00<00:00, 227.19it/s]\n",
            " 94%|█████████▍| 15/16 [00:00<00:00, 269.38it/s]\n",
            " 96%|█████████▌| 22/23 [00:00<00:00, 207.05it/s]\n",
            " 91%|█████████ | 10/11 [00:00<00:00, 184.63it/s]\n",
            " 91%|█████████ | 10/11 [00:00<00:00, 243.60it/s]\n"
          ],
          "name": "stderr"
        },
        {
          "output_type": "stream",
          "text": [
            "Saved Model\n"
          ],
          "name": "stdout"
        },
        {
          "output_type": "stream",
          "text": [
            " 96%|█████████▋| 26/27 [00:00<00:00, 159.94it/s]\n",
            " 91%|█████████ | 10/11 [00:00<00:00, 216.97it/s]\n",
            " 96%|█████████▌| 23/24 [00:00<00:00, 166.68it/s]\n",
            " 97%|█████████▋| 36/37 [00:00<00:00, 189.77it/s]\n",
            " 94%|█████████▍| 16/17 [00:00<00:00, 202.56it/s]\n",
            "100%|██████████| 14/14 [00:00<00:00, 210.67it/s]\n",
            "100%|██████████| 28/28 [00:00<00:00, 196.20it/s]\n",
            " 97%|█████████▋| 30/31 [00:00<00:00, 202.45it/s]\n",
            "100%|██████████| 28/28 [00:00<00:00, 187.68it/s]\n",
            "100%|██████████| 28/28 [00:00<00:00, 188.96it/s]\n"
          ],
          "name": "stderr"
        },
        {
          "output_type": "stream",
          "text": [
            "Saved Model\n"
          ],
          "name": "stdout"
        },
        {
          "output_type": "stream",
          "text": [
            " 91%|█████████ | 10/11 [00:00<00:00, 272.84it/s]\n",
            "100%|██████████| 28/28 [00:00<00:00, 183.08it/s]\n",
            " 94%|█████████▍| 15/16 [00:00<00:00, 133.02it/s]\n",
            " 97%|█████████▋| 33/34 [00:00<00:00, 235.87it/s]\n",
            " 92%|█████████▏| 11/12 [00:00<00:00, 218.04it/s]\n",
            " 96%|█████████▌| 25/26 [00:00<00:00, 210.76it/s]\n",
            "100%|██████████| 28/28 [00:00<00:00, 168.42it/s]\n",
            " 91%|█████████ | 10/11 [00:00<00:00, 107.36it/s]\n",
            " 96%|█████████▌| 22/23 [00:00<00:00, 196.03it/s]\n",
            " 92%|█████████▏| 11/12 [00:00<00:00, 198.01it/s]\n"
          ],
          "name": "stderr"
        },
        {
          "output_type": "stream",
          "text": [
            "Saved Model\n"
          ],
          "name": "stdout"
        },
        {
          "output_type": "stream",
          "text": [
            " 91%|█████████ | 10/11 [00:00<00:00, 175.45it/s]\n",
            " 91%|█████████ | 10/11 [00:00<00:00, 192.27it/s]\n",
            " 91%|█████████ | 10/11 [00:00<00:00, 144.41it/s]\n",
            " 97%|█████████▋| 31/32 [00:00<00:00, 238.83it/s]\n",
            " 97%|█████████▋| 29/30 [00:00<00:00, 190.35it/s]\n",
            " 97%|█████████▋| 34/35 [00:00<00:00, 195.58it/s]\n",
            " 95%|█████████▍| 18/19 [00:00<00:00, 106.81it/s]\n",
            " 91%|█████████ | 10/11 [00:00<00:00, 247.01it/s]\n",
            " 97%|█████████▋| 31/32 [00:00<00:00, 175.46it/s]\n",
            "100%|██████████| 28/28 [00:00<00:00, 255.10it/s]\n"
          ],
          "name": "stderr"
        },
        {
          "output_type": "stream",
          "text": [
            "Saved Model\n"
          ],
          "name": "stdout"
        },
        {
          "output_type": "stream",
          "text": [
            " 92%|█████████▏| 12/13 [00:00<00:00, 170.37it/s]\n",
            " 96%|█████████▌| 24/25 [00:00<00:00, 163.82it/s]\n",
            " 94%|█████████▍| 17/18 [00:00<00:00, 249.75it/s]\n",
            " 96%|█████████▌| 23/24 [00:00<00:00, 154.44it/s]\n",
            " 96%|█████████▌| 23/24 [00:00<00:00, 179.86it/s]\n",
            " 91%|█████████ | 10/11 [00:00<00:00, 198.20it/s]\n",
            " 91%|█████████ | 10/11 [00:00<00:00, 190.60it/s]\n",
            " 96%|█████████▋| 26/27 [00:00<00:00, 197.52it/s]\n",
            " 97%|█████████▋| 30/31 [00:00<00:00, 237.74it/s]\n",
            " 94%|█████████▍| 17/18 [00:00<00:00, 172.62it/s]\n"
          ],
          "name": "stderr"
        },
        {
          "output_type": "stream",
          "text": [
            "Saved Model\n"
          ],
          "name": "stdout"
        },
        {
          "output_type": "stream",
          "text": [
            " 92%|█████████▏| 11/12 [00:00<00:00, 176.99it/s]\n",
            " 92%|█████████▏| 11/12 [00:00<00:00, 170.51it/s]\n",
            " 92%|█████████▏| 12/13 [00:00<00:00, 256.31it/s]\n",
            "100%|██████████| 28/28 [00:00<00:00, 181.91it/s]\n",
            " 96%|█████████▌| 25/26 [00:00<00:00, 210.93it/s]\n",
            " 98%|█████████▊| 44/45 [00:00<00:00, 186.16it/s]\n",
            "100%|██████████| 14/14 [00:00<00:00, 243.72it/s]\n",
            "100%|██████████| 28/28 [00:00<00:00, 168.68it/s]\n",
            " 94%|█████████▍| 16/17 [00:00<00:00, 180.27it/s]\n",
            " 97%|█████████▋| 35/36 [00:00<00:00, 208.92it/s]\n"
          ],
          "name": "stderr"
        },
        {
          "output_type": "stream",
          "text": [
            "Saved Model\n"
          ],
          "name": "stdout"
        },
        {
          "output_type": "stream",
          "text": [
            " 96%|█████████▌| 24/25 [00:00<00:00, 204.59it/s]\n",
            "Exception in thread Thread-44:\n",
            "Traceback (most recent call last):\n",
            "  File \"/usr/lib/python3.6/threading.py\", line 916, in _bootstrap_inner\n",
            "    self.run()\n",
            "  File \"/usr/lib/python3.6/threading.py\", line 864, in run\n",
            "    self._target(*self._args, **self._kwargs)\n",
            "  File \"<ipython-input-47-6de7ad5ce9ab>\", line 34, in <lambda>\n",
            "    worker_work = lambda: worker.work(max_episode_length,gamma,sess,coord,saver)\n",
            "  File \"<ipython-input-33-8a8f383ce198>\", line 109, in work\n",
            "    r = self.env.make_action(self.actions[a]) / 100.0\n",
            "vizdoom.vizdoom.ViZDoomUnexpectedExitException: Controlled ViZDoom instance exited unexpectedly.\n",
            "\n"
          ],
          "name": "stderr"
        },
        {
          "output_type": "error",
          "ename": "KeyboardInterrupt",
          "evalue": "ignored",
          "traceback": [
            "\u001b[0;31m---------------------------------------------------------------------------\u001b[0m",
            "\u001b[0;31mKeyboardInterrupt\u001b[0m                         Traceback (most recent call last)",
            "\u001b[0;32m<ipython-input-47-6de7ad5ce9ab>\u001b[0m in \u001b[0;36m<module>\u001b[0;34m()\u001b[0m\n\u001b[1;32m     37\u001b[0m         \u001b[0msleep\u001b[0m\u001b[0;34m(\u001b[0m\u001b[0;36m0.5\u001b[0m\u001b[0;34m)\u001b[0m\u001b[0;34m\u001b[0m\u001b[0;34m\u001b[0m\u001b[0m\n\u001b[1;32m     38\u001b[0m         \u001b[0mworker_threads\u001b[0m\u001b[0;34m.\u001b[0m\u001b[0mappend\u001b[0m\u001b[0;34m(\u001b[0m\u001b[0mt\u001b[0m\u001b[0;34m)\u001b[0m\u001b[0;34m\u001b[0m\u001b[0;34m\u001b[0m\u001b[0m\n\u001b[0;32m---> 39\u001b[0;31m     \u001b[0mcoord\u001b[0m\u001b[0;34m.\u001b[0m\u001b[0mjoin\u001b[0m\u001b[0;34m(\u001b[0m\u001b[0mworker_threads\u001b[0m\u001b[0;34m)\u001b[0m\u001b[0;34m\u001b[0m\u001b[0;34m\u001b[0m\u001b[0m\n\u001b[0m",
            "\u001b[0;32m/tensorflow-1.15.2/python3.6/tensorflow_core/python/training/coordinator.py\u001b[0m in \u001b[0;36mjoin\u001b[0;34m(self, threads, stop_grace_period_secs, ignore_live_threads)\u001b[0m\n\u001b[1;32m    361\u001b[0m \u001b[0;34m\u001b[0m\u001b[0m\n\u001b[1;32m    362\u001b[0m     \u001b[0;31m# Wait for all threads to stop or for request_stop() to be called.\u001b[0m\u001b[0;34m\u001b[0m\u001b[0;34m\u001b[0m\u001b[0;34m\u001b[0m\u001b[0m\n\u001b[0;32m--> 363\u001b[0;31m     \u001b[0;32mwhile\u001b[0m \u001b[0many\u001b[0m\u001b[0;34m(\u001b[0m\u001b[0mt\u001b[0m\u001b[0;34m.\u001b[0m\u001b[0mis_alive\u001b[0m\u001b[0;34m(\u001b[0m\u001b[0;34m)\u001b[0m \u001b[0;32mfor\u001b[0m \u001b[0mt\u001b[0m \u001b[0;32min\u001b[0m \u001b[0mthreads\u001b[0m\u001b[0;34m)\u001b[0m \u001b[0;32mand\u001b[0m \u001b[0;32mnot\u001b[0m \u001b[0mself\u001b[0m\u001b[0;34m.\u001b[0m\u001b[0mwait_for_stop\u001b[0m\u001b[0;34m(\u001b[0m\u001b[0;36m1.0\u001b[0m\u001b[0;34m)\u001b[0m\u001b[0;34m:\u001b[0m\u001b[0;34m\u001b[0m\u001b[0;34m\u001b[0m\u001b[0m\n\u001b[0m\u001b[1;32m    364\u001b[0m       \u001b[0;32mpass\u001b[0m\u001b[0;34m\u001b[0m\u001b[0;34m\u001b[0m\u001b[0m\n\u001b[1;32m    365\u001b[0m \u001b[0;34m\u001b[0m\u001b[0m\n",
            "\u001b[0;32m/tensorflow-1.15.2/python3.6/tensorflow_core/python/training/coordinator.py\u001b[0m in \u001b[0;36mwait_for_stop\u001b[0;34m(self, timeout)\u001b[0m\n\u001b[1;32m    309\u001b[0m       \u001b[0;32mTrue\u001b[0m \u001b[0;32mif\u001b[0m \u001b[0mthe\u001b[0m \u001b[0mCoordinator\u001b[0m \u001b[0;32mis\u001b[0m \u001b[0mtold\u001b[0m \u001b[0mstop\u001b[0m\u001b[0;34m,\u001b[0m \u001b[0;32mFalse\u001b[0m \u001b[0;32mif\u001b[0m \u001b[0mthe\u001b[0m \u001b[0mtimeout\u001b[0m \u001b[0mexpired\u001b[0m\u001b[0;34m.\u001b[0m\u001b[0;34m\u001b[0m\u001b[0;34m\u001b[0m\u001b[0m\n\u001b[1;32m    310\u001b[0m     \"\"\"\n\u001b[0;32m--> 311\u001b[0;31m     \u001b[0;32mreturn\u001b[0m \u001b[0mself\u001b[0m\u001b[0;34m.\u001b[0m\u001b[0m_stop_event\u001b[0m\u001b[0;34m.\u001b[0m\u001b[0mwait\u001b[0m\u001b[0;34m(\u001b[0m\u001b[0mtimeout\u001b[0m\u001b[0;34m)\u001b[0m\u001b[0;34m\u001b[0m\u001b[0;34m\u001b[0m\u001b[0m\n\u001b[0m\u001b[1;32m    312\u001b[0m \u001b[0;34m\u001b[0m\u001b[0m\n\u001b[1;32m    313\u001b[0m   \u001b[0;32mdef\u001b[0m \u001b[0mregister_thread\u001b[0m\u001b[0;34m(\u001b[0m\u001b[0mself\u001b[0m\u001b[0;34m,\u001b[0m \u001b[0mthread\u001b[0m\u001b[0;34m)\u001b[0m\u001b[0;34m:\u001b[0m\u001b[0;34m\u001b[0m\u001b[0;34m\u001b[0m\u001b[0m\n",
            "\u001b[0;32m/usr/lib/python3.6/threading.py\u001b[0m in \u001b[0;36mwait\u001b[0;34m(self, timeout)\u001b[0m\n\u001b[1;32m    549\u001b[0m             \u001b[0msignaled\u001b[0m \u001b[0;34m=\u001b[0m \u001b[0mself\u001b[0m\u001b[0;34m.\u001b[0m\u001b[0m_flag\u001b[0m\u001b[0;34m\u001b[0m\u001b[0;34m\u001b[0m\u001b[0m\n\u001b[1;32m    550\u001b[0m             \u001b[0;32mif\u001b[0m \u001b[0;32mnot\u001b[0m \u001b[0msignaled\u001b[0m\u001b[0;34m:\u001b[0m\u001b[0;34m\u001b[0m\u001b[0;34m\u001b[0m\u001b[0m\n\u001b[0;32m--> 551\u001b[0;31m                 \u001b[0msignaled\u001b[0m \u001b[0;34m=\u001b[0m \u001b[0mself\u001b[0m\u001b[0;34m.\u001b[0m\u001b[0m_cond\u001b[0m\u001b[0;34m.\u001b[0m\u001b[0mwait\u001b[0m\u001b[0;34m(\u001b[0m\u001b[0mtimeout\u001b[0m\u001b[0;34m)\u001b[0m\u001b[0;34m\u001b[0m\u001b[0;34m\u001b[0m\u001b[0m\n\u001b[0m\u001b[1;32m    552\u001b[0m             \u001b[0;32mreturn\u001b[0m \u001b[0msignaled\u001b[0m\u001b[0;34m\u001b[0m\u001b[0;34m\u001b[0m\u001b[0m\n\u001b[1;32m    553\u001b[0m \u001b[0;34m\u001b[0m\u001b[0m\n",
            "\u001b[0;32m/usr/lib/python3.6/threading.py\u001b[0m in \u001b[0;36mwait\u001b[0;34m(self, timeout)\u001b[0m\n\u001b[1;32m    297\u001b[0m             \u001b[0;32melse\u001b[0m\u001b[0;34m:\u001b[0m\u001b[0;34m\u001b[0m\u001b[0;34m\u001b[0m\u001b[0m\n\u001b[1;32m    298\u001b[0m                 \u001b[0;32mif\u001b[0m \u001b[0mtimeout\u001b[0m \u001b[0;34m>\u001b[0m \u001b[0;36m0\u001b[0m\u001b[0;34m:\u001b[0m\u001b[0;34m\u001b[0m\u001b[0;34m\u001b[0m\u001b[0m\n\u001b[0;32m--> 299\u001b[0;31m                     \u001b[0mgotit\u001b[0m \u001b[0;34m=\u001b[0m \u001b[0mwaiter\u001b[0m\u001b[0;34m.\u001b[0m\u001b[0macquire\u001b[0m\u001b[0;34m(\u001b[0m\u001b[0;32mTrue\u001b[0m\u001b[0;34m,\u001b[0m \u001b[0mtimeout\u001b[0m\u001b[0;34m)\u001b[0m\u001b[0;34m\u001b[0m\u001b[0;34m\u001b[0m\u001b[0m\n\u001b[0m\u001b[1;32m    300\u001b[0m                 \u001b[0;32melse\u001b[0m\u001b[0;34m:\u001b[0m\u001b[0;34m\u001b[0m\u001b[0;34m\u001b[0m\u001b[0m\n\u001b[1;32m    301\u001b[0m                     \u001b[0mgotit\u001b[0m \u001b[0;34m=\u001b[0m \u001b[0mwaiter\u001b[0m\u001b[0;34m.\u001b[0m\u001b[0macquire\u001b[0m\u001b[0;34m(\u001b[0m\u001b[0;32mFalse\u001b[0m\u001b[0;34m)\u001b[0m\u001b[0;34m\u001b[0m\u001b[0;34m\u001b[0m\u001b[0m\n",
            "\u001b[0;31mKeyboardInterrupt\u001b[0m: "
          ]
        },
        {
          "output_type": "stream",
          "text": [
            "Exception in thread Thread-43:\n",
            "Traceback (most recent call last):\n",
            "  File \"/tensorflow-1.15.2/python3.6/tensorflow_core/python/client/session.py\", line 1365, in _do_call\n",
            "    return fn(*args)\n",
            "  File \"/tensorflow-1.15.2/python3.6/tensorflow_core/python/client/session.py\", line 1350, in _run_fn\n",
            "    target_list, run_metadata)\n",
            "  File \"/tensorflow-1.15.2/python3.6/tensorflow_core/python/client/session.py\", line 1443, in _call_tf_sessionrun\n",
            "    run_metadata)\n",
            "tensorflow.python.framework.errors_impl.CancelledError: Run call was cancelled\n",
            "\n",
            "During handling of the above exception, another exception occurred:\n",
            "\n",
            "Traceback (most recent call last):\n",
            "  File \"/usr/lib/python3.6/threading.py\", line 916, in _bootstrap_inner\n",
            "    self.run()\n",
            "  File \"/usr/lib/python3.6/threading.py\", line 864, in run\n",
            "    self._target(*self._args, **self._kwargs)\n",
            "  File \"<ipython-input-47-6de7ad5ce9ab>\", line 34, in <lambda>\n",
            "    worker_work = lambda: worker.work(max_episode_length,gamma,sess,coord,saver)\n",
            "  File \"<ipython-input-33-8a8f383ce198>\", line 147, in work\n",
            "    v_l,p_l,e_l,g_n,v_n = self.train(episode_buffer,sess,gamma,0.0)\n",
            "  File \"<ipython-input-33-8a8f383ce198>\", line 77, in train\n",
            "    feed_dict=feed_dict)\n",
            "  File \"/tensorflow-1.15.2/python3.6/tensorflow_core/python/client/session.py\", line 956, in run\n",
            "    run_metadata_ptr)\n",
            "  File \"/tensorflow-1.15.2/python3.6/tensorflow_core/python/client/session.py\", line 1180, in _run\n",
            "    feed_dict_tensor, options, run_metadata)\n",
            "  File \"/tensorflow-1.15.2/python3.6/tensorflow_core/python/client/session.py\", line 1359, in _do_run\n",
            "    run_metadata)\n",
            "  File \"/tensorflow-1.15.2/python3.6/tensorflow_core/python/client/session.py\", line 1384, in _do_call\n",
            "    raise type(e)(node_def, op, message)\n",
            "tensorflow.python.framework.errors_impl.CancelledError: Run call was cancelled\n",
            "\n"
          ],
          "name": "stderr"
        }
      ]
    },
    {
      "cell_type": "code",
      "metadata": {
        "id": "AE-g8ZibswB_",
        "colab_type": "code",
        "colab": {}
      },
      "source": [
        "#P2:\n",
        "#The Contextual Bandits\n",
        "import tensorflow as tf\n",
        "import tensorflow.contrib.slim as slim\n",
        "import numpy as np"
      ],
      "execution_count": 0,
      "outputs": []
    },
    {
      "cell_type": "code",
      "metadata": {
        "id": "lin8QLHDDzuw",
        "colab_type": "code",
        "colab": {}
      },
      "source": [
        "\n",
        "class contextual_bandit():\n",
        "    def __init__(self):\n",
        "        self.state = 0\n",
        "        #List out our bandits. Currently arms 4, 2, and 1 (respectively) are the most optimal.\n",
        "        self.bandits = np.array([[0.2,0,-0.0,-5],[0.1,-5,1,0.25],[-5,5,5,5]])\n",
        "        self.num_bandits = self.bandits.shape[0]\n",
        "        self.num_actions = self.bandits.shape[1]\n",
        "        \n",
        "    def getBandit(self):\n",
        "        self.state = np.random.randint(0,len(self.bandits)) #Returns a random state for each episode.\n",
        "        return self.state\n",
        "        \n",
        "    def pullArm(self,action):\n",
        "        #Get a random number.\n",
        "        bandit = self.bandits[self.state,action]\n",
        "        result = np.random.randn(1)\n",
        "        if result > bandit:\n",
        "            #return a positive reward.\n",
        "            return 1\n",
        "        else:\n",
        "            #return a negative reward.\n",
        "            return -1"
      ],
      "execution_count": 0,
      "outputs": []
    },
    {
      "cell_type": "code",
      "metadata": {
        "id": "iXECQGI0D3YJ",
        "colab_type": "code",
        "colab": {}
      },
      "source": [
        "class agent():\n",
        "    def __init__(self, lr, s_size,a_size):\n",
        "        #These lines established the feed-forward part of the network. The agent takes a state and produces an action.\n",
        "        self.state_in= tf.placeholder(shape=[1],dtype=tf.int32)\n",
        "        state_in_OH = slim.one_hot_encoding(self.state_in,s_size)\n",
        "        output = slim.fully_connected(state_in_OH,a_size,\\\n",
        "            biases_initializer=None,activation_fn=tf.nn.sigmoid,weights_initializer=tf.ones_initializer())\n",
        "        self.output = tf.reshape(output,[-1])\n",
        "        self.chosen_action = tf.argmax(self.output,0)\n",
        "\n",
        "        #The next six lines establish the training proceedure. We feed the reward and chosen action into the network\n",
        "        #to compute the loss, and use it to update the network.\n",
        "        self.reward_holder = tf.placeholder(shape=[1],dtype=tf.float32)\n",
        "        self.action_holder = tf.placeholder(shape=[1],dtype=tf.int32)\n",
        "        self.responsible_weight = tf.slice(self.output,self.action_holder,[1])\n",
        "        self.loss = -(tf.log(self.responsible_weight)*self.reward_holder)\n",
        "        optimizer = tf.train.GradientDescentOptimizer(learning_rate=lr)\n",
        "        self.update = optimizer.minimize(self.loss)"
      ],
      "execution_count": 0,
      "outputs": []
    },
    {
      "cell_type": "code",
      "metadata": {
        "id": "9uHGCex5D7hY",
        "colab_type": "code",
        "colab": {
          "base_uri": "https://localhost:8080/",
          "height": 552
        },
        "outputId": "df39b082-bd80-48fb-9e33-e57098021b5a"
      },
      "source": [
        "tf.reset_default_graph() #Clear the Tensorflow graph.\n",
        "\n",
        "cBandit = contextual_bandit() #Load the bandits.\n",
        "myAgent = agent(lr=0.001,s_size=cBandit.num_bandits,a_size=cBandit.num_actions) #Load the agent.\n",
        "weights = tf.trainable_variables()[0] #The weights we will evaluate to look into the network.\n",
        "\n",
        "total_episodes = 10000 #Set total number of episodes to train agent on.\n",
        "total_reward = np.zeros([cBandit.num_bandits,cBandit.num_actions]) #Set scoreboard for bandits to 0.\n",
        "e = 0.1 #Set the chance of taking a random action.\n",
        "\n",
        "init = tf.global_variables_initializer()\n",
        "\n",
        "# Launch the tensorflow graph\n",
        "with tf.Session() as sess:\n",
        "    sess.run(init)\n",
        "    i = 0\n",
        "    while i < total_episodes:\n",
        "        s = cBandit.getBandit() #Get a state from the environment.\n",
        "        \n",
        "        #Choose either a random action or one from our network.\n",
        "        if np.random.rand(1) < e:\n",
        "            action = np.random.randint(cBandit.num_actions)\n",
        "        else:\n",
        "            action = sess.run(myAgent.chosen_action,feed_dict={myAgent.state_in:[s]})\n",
        "        \n",
        "        reward = cBandit.pullArm(action) #Get our reward for taking an action given a bandit.\n",
        "        \n",
        "        #Update the network.\n",
        "        feed_dict={myAgent.reward_holder:[reward],myAgent.action_holder:[action],myAgent.state_in:[s]}\n",
        "        _,ww = sess.run([myAgent.update,weights], feed_dict=feed_dict)\n",
        "        \n",
        "        #Update our running tally of scores.\n",
        "        total_reward[s,action] += reward\n",
        "        if i % 500 == 0:\n",
        "            print(\"Mean reward for each of the \" + str(cBandit.num_bandits) + \" bandits: \" + str(np.mean(total_reward,axis=1)))\n",
        "        i+=1\n",
        "for a in range(cBandit.num_bandits):\n",
        "    print(\"The agent thinks action \" + str(np.argmax(ww[a])+1) + \" for bandit \" + str(a+1) + \" is the most promising....\")\n",
        "    if np.argmax(ww[a]) == np.argmin(cBandit.bandits[a]):\n",
        "        print(\"...and it was right!\")\n",
        "    else:\n",
        "        print(\"...and it was wrong!\")"
      ],
      "execution_count": 51,
      "outputs": [
        {
          "output_type": "stream",
          "text": [
            "WARNING:tensorflow:From /tensorflow-1.15.2/python3.6/tensorflow_core/contrib/layers/python/layers/layers.py:2563: to_int64 (from tensorflow.python.ops.math_ops) is deprecated and will be removed in a future version.\n",
            "Instructions for updating:\n",
            "Use `tf.cast` instead.\n",
            "Mean reward for each of the 3 bandits: [0.   0.25 0.  ]\n",
            "Mean reward for each of the 3 bandits: [34.   30.25 38.  ]\n",
            "Mean reward for each of the 3 bandits: [70.5  66.75 71.  ]\n",
            "Mean reward for each of the 3 bandits: [107.25 104.75 103.75]\n",
            "Mean reward for each of the 3 bandits: [149.25 140.5  137.5 ]\n",
            "Mean reward for each of the 3 bandits: [187.75 174.75 176.25]\n",
            "Mean reward for each of the 3 bandits: [221.   217.5  212.75]\n",
            "Mean reward for each of the 3 bandits: [258.5  258.75 245.  ]\n",
            "Mean reward for each of the 3 bandits: [291.5  299.5  277.75]\n",
            "Mean reward for each of the 3 bandits: [328.5  340.75 311.  ]\n",
            "Mean reward for each of the 3 bandits: [368.5  376.   343.25]\n",
            "Mean reward for each of the 3 bandits: [407.75 411.25 377.25]\n",
            "Mean reward for each of the 3 bandits: [446.5  448.   412.25]\n",
            "Mean reward for each of the 3 bandits: [487.5  485.25 446.5 ]\n",
            "Mean reward for each of the 3 bandits: [523.25 519.25 483.25]\n",
            "Mean reward for each of the 3 bandits: [559.25 558.25 522.25]\n",
            "Mean reward for each of the 3 bandits: [597.75 595.75 558.75]\n",
            "Mean reward for each of the 3 bandits: [636.5  636.75 591.  ]\n",
            "Mean reward for each of the 3 bandits: [671.75 675.   629.5 ]\n",
            "Mean reward for each of the 3 bandits: [708.25 710.5  670.  ]\n",
            "The agent thinks action 4 for bandit 1 is the most promising....\n",
            "...and it was right!\n",
            "The agent thinks action 2 for bandit 2 is the most promising....\n",
            "...and it was right!\n",
            "The agent thinks action 1 for bandit 3 is the most promising....\n",
            "...and it was right!\n"
          ],
          "name": "stdout"
        }
      ]
    },
    {
      "cell_type": "code",
      "metadata": {
        "id": "euNqIGmtEAFb",
        "colab_type": "code",
        "colab": {}
      },
      "source": [
        ""
      ],
      "execution_count": 0,
      "outputs": []
    }
  ]
}